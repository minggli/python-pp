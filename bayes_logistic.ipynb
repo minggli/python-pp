{
 "cells": [
  {
   "cell_type": "markdown",
   "metadata": {},
   "source": [
    "# Data Science Test - Ming Li"
   ]
  },
  {
   "cell_type": "markdown",
   "metadata": {},
   "source": [
    "## Exploratory Data Analysis"
   ]
  },
  {
   "cell_type": "code",
   "execution_count": 1,
   "metadata": {},
   "outputs": [],
   "source": [
    "import pandas as pd\n",
    "import numpy as np"
   ]
  },
  {
   "cell_type": "code",
   "execution_count": 2,
   "metadata": {},
   "outputs": [],
   "source": [
    "import json"
   ]
  },
  {
   "cell_type": "code",
   "execution_count": 3,
   "metadata": {},
   "outputs": [],
   "source": [
    "import matplotlib.pyplot as plt\n",
    "import seaborn as sns\n",
    "from functools import partial"
   ]
  },
  {
   "cell_type": "code",
   "execution_count": 4,
   "metadata": {},
   "outputs": [],
   "source": [
    "from sklearn.ensemble import RandomForestClassifier\n",
    "from sklearn.linear_model import LogisticRegression\n",
    "from sklearn.metrics import confusion_matrix"
   ]
  },
  {
   "cell_type": "code",
   "execution_count": 171,
   "metadata": {},
   "outputs": [],
   "source": [
    "import pyro\n",
    "import torch\n",
    "\n",
    "from torch import nn\n",
    "from torch.nn import BCELoss\n",
    "\n",
    "from pyro.optim import Adam, SGD\n",
    "from pyro.infer import Trace_ELBO, SVI, TracePredictive, EmpiricalMarginal\n",
    "from pyro.infer.mcmc import NUTS\n",
    "from pyro.infer.mcmc.api import MCMC\n",
    "from pyro.infer.mcmc.util import diagnostics, initialize_model, summary\n",
    "\n",
    "from pyro.infer.autoguide import AutoDiagonalNormal\n",
    "from pyro.distributions import Normal, Uniform, Bernoulli, Delta"
   ]
  },
  {
   "cell_type": "code",
   "execution_count": 6,
   "metadata": {},
   "outputs": [],
   "source": [
    "plt.style.use(\"ggplot\")\n",
    "plt.rcParams[\"figure.dpi\"] = 100"
   ]
  },
  {
   "cell_type": "code",
   "execution_count": 7,
   "metadata": {},
   "outputs": [],
   "source": [
    "df_raw_cust = pd.read_csv(\"./customer-data.csv\")"
   ]
  },
  {
   "cell_type": "code",
   "execution_count": 8,
   "metadata": {},
   "outputs": [
    {
     "name": "stdout",
     "output_type": "stream",
     "text": [
      "<class 'pandas.core.frame.DataFrame'>\n",
      "RangeIndex: 10000 entries, 0 to 9999\n",
      "Data columns (total 19 columns):\n",
      "id                     10000 non-null int64\n",
      "age                    10000 non-null object\n",
      "gender                 10000 non-null object\n",
      "race                   10000 non-null object\n",
      "driving_experience     10000 non-null object\n",
      "education              10000 non-null object\n",
      "income                 10000 non-null object\n",
      "credit_score           9018 non-null float64\n",
      "vehicle_ownership      10000 non-null bool\n",
      "vehicle_year           10000 non-null object\n",
      "married                10000 non-null bool\n",
      "children               10000 non-null bool\n",
      "postal_code            10000 non-null int64\n",
      "annual_mileage         9043 non-null float64\n",
      "vehicle_type           10000 non-null object\n",
      "speeding_violations    10000 non-null int64\n",
      "DUIs                   10000 non-null int64\n",
      "past_accidents         10000 non-null int64\n",
      "outcome                10000 non-null bool\n",
      "dtypes: bool(4), float64(2), int64(5), object(8)\n",
      "memory usage: 1.2+ MB\n"
     ]
    }
   ],
   "source": [
    "df_raw_cust.info(null_counts=True, verbose=True)"
   ]
  },
  {
   "cell_type": "code",
   "execution_count": 9,
   "metadata": {},
   "outputs": [
    {
     "data": {
      "text/html": [
       "<div>\n",
       "<style scoped>\n",
       "    .dataframe tbody tr th:only-of-type {\n",
       "        vertical-align: middle;\n",
       "    }\n",
       "\n",
       "    .dataframe tbody tr th {\n",
       "        vertical-align: top;\n",
       "    }\n",
       "\n",
       "    .dataframe thead th {\n",
       "        text-align: right;\n",
       "    }\n",
       "</style>\n",
       "<table border=\"1\" class=\"dataframe\">\n",
       "  <thead>\n",
       "    <tr style=\"text-align: right;\">\n",
       "      <th></th>\n",
       "      <th>0</th>\n",
       "      <th>1</th>\n",
       "      <th>2</th>\n",
       "      <th>3</th>\n",
       "      <th>4</th>\n",
       "    </tr>\n",
       "  </thead>\n",
       "  <tbody>\n",
       "    <tr>\n",
       "      <td>id</td>\n",
       "      <td>569520</td>\n",
       "      <td>750365</td>\n",
       "      <td>199901</td>\n",
       "      <td>478866</td>\n",
       "      <td>731664</td>\n",
       "    </tr>\n",
       "    <tr>\n",
       "      <td>age</td>\n",
       "      <td>65+</td>\n",
       "      <td>16-25</td>\n",
       "      <td>16-25</td>\n",
       "      <td>16-25</td>\n",
       "      <td>26-39</td>\n",
       "    </tr>\n",
       "    <tr>\n",
       "      <td>gender</td>\n",
       "      <td>female</td>\n",
       "      <td>male</td>\n",
       "      <td>female</td>\n",
       "      <td>male</td>\n",
       "      <td>male</td>\n",
       "    </tr>\n",
       "    <tr>\n",
       "      <td>race</td>\n",
       "      <td>majority</td>\n",
       "      <td>majority</td>\n",
       "      <td>majority</td>\n",
       "      <td>majority</td>\n",
       "      <td>majority</td>\n",
       "    </tr>\n",
       "    <tr>\n",
       "      <td>driving_experience</td>\n",
       "      <td>0-9y</td>\n",
       "      <td>0-9y</td>\n",
       "      <td>0-9y</td>\n",
       "      <td>0-9y</td>\n",
       "      <td>10-19y</td>\n",
       "    </tr>\n",
       "    <tr>\n",
       "      <td>education</td>\n",
       "      <td>high school</td>\n",
       "      <td>none</td>\n",
       "      <td>high school</td>\n",
       "      <td>university</td>\n",
       "      <td>none</td>\n",
       "    </tr>\n",
       "    <tr>\n",
       "      <td>income</td>\n",
       "      <td>upper class</td>\n",
       "      <td>poverty</td>\n",
       "      <td>working class</td>\n",
       "      <td>working class</td>\n",
       "      <td>working class</td>\n",
       "    </tr>\n",
       "    <tr>\n",
       "      <td>credit_score</td>\n",
       "      <td>0.629027</td>\n",
       "      <td>0.357757</td>\n",
       "      <td>0.493146</td>\n",
       "      <td>0.206013</td>\n",
       "      <td>0.388366</td>\n",
       "    </tr>\n",
       "    <tr>\n",
       "      <td>vehicle_ownership</td>\n",
       "      <td>True</td>\n",
       "      <td>False</td>\n",
       "      <td>True</td>\n",
       "      <td>True</td>\n",
       "      <td>True</td>\n",
       "    </tr>\n",
       "    <tr>\n",
       "      <td>vehicle_year</td>\n",
       "      <td>after 2015</td>\n",
       "      <td>before 2015</td>\n",
       "      <td>before 2015</td>\n",
       "      <td>before 2015</td>\n",
       "      <td>before 2015</td>\n",
       "    </tr>\n",
       "    <tr>\n",
       "      <td>married</td>\n",
       "      <td>False</td>\n",
       "      <td>False</td>\n",
       "      <td>False</td>\n",
       "      <td>False</td>\n",
       "      <td>False</td>\n",
       "    </tr>\n",
       "    <tr>\n",
       "      <td>children</td>\n",
       "      <td>True</td>\n",
       "      <td>False</td>\n",
       "      <td>False</td>\n",
       "      <td>True</td>\n",
       "      <td>False</td>\n",
       "    </tr>\n",
       "    <tr>\n",
       "      <td>postal_code</td>\n",
       "      <td>10238</td>\n",
       "      <td>10238</td>\n",
       "      <td>10238</td>\n",
       "      <td>32765</td>\n",
       "      <td>32765</td>\n",
       "    </tr>\n",
       "    <tr>\n",
       "      <td>annual_mileage</td>\n",
       "      <td>12000</td>\n",
       "      <td>16000</td>\n",
       "      <td>11000</td>\n",
       "      <td>11000</td>\n",
       "      <td>12000</td>\n",
       "    </tr>\n",
       "    <tr>\n",
       "      <td>vehicle_type</td>\n",
       "      <td>sedan</td>\n",
       "      <td>sedan</td>\n",
       "      <td>sedan</td>\n",
       "      <td>sedan</td>\n",
       "      <td>sedan</td>\n",
       "    </tr>\n",
       "    <tr>\n",
       "      <td>speeding_violations</td>\n",
       "      <td>0</td>\n",
       "      <td>0</td>\n",
       "      <td>0</td>\n",
       "      <td>0</td>\n",
       "      <td>2</td>\n",
       "    </tr>\n",
       "    <tr>\n",
       "      <td>DUIs</td>\n",
       "      <td>0</td>\n",
       "      <td>0</td>\n",
       "      <td>0</td>\n",
       "      <td>0</td>\n",
       "      <td>0</td>\n",
       "    </tr>\n",
       "    <tr>\n",
       "      <td>past_accidents</td>\n",
       "      <td>0</td>\n",
       "      <td>0</td>\n",
       "      <td>0</td>\n",
       "      <td>0</td>\n",
       "      <td>1</td>\n",
       "    </tr>\n",
       "    <tr>\n",
       "      <td>outcome</td>\n",
       "      <td>False</td>\n",
       "      <td>True</td>\n",
       "      <td>False</td>\n",
       "      <td>False</td>\n",
       "      <td>True</td>\n",
       "    </tr>\n",
       "  </tbody>\n",
       "</table>\n",
       "</div>"
      ],
      "text/plain": [
       "                               0            1              2              3  \\\n",
       "id                        569520       750365         199901         478866   \n",
       "age                          65+        16-25          16-25          16-25   \n",
       "gender                    female         male         female           male   \n",
       "race                    majority     majority       majority       majority   \n",
       "driving_experience          0-9y         0-9y           0-9y           0-9y   \n",
       "education            high school         none    high school     university   \n",
       "income               upper class      poverty  working class  working class   \n",
       "credit_score            0.629027     0.357757       0.493146       0.206013   \n",
       "vehicle_ownership           True        False           True           True   \n",
       "vehicle_year          after 2015  before 2015    before 2015    before 2015   \n",
       "married                    False        False          False          False   \n",
       "children                    True        False          False           True   \n",
       "postal_code                10238        10238          10238          32765   \n",
       "annual_mileage             12000        16000          11000          11000   \n",
       "vehicle_type               sedan        sedan          sedan          sedan   \n",
       "speeding_violations            0            0              0              0   \n",
       "DUIs                           0            0              0              0   \n",
       "past_accidents                 0            0              0              0   \n",
       "outcome                    False         True          False          False   \n",
       "\n",
       "                                 4  \n",
       "id                          731664  \n",
       "age                          26-39  \n",
       "gender                        male  \n",
       "race                      majority  \n",
       "driving_experience          10-19y  \n",
       "education                     none  \n",
       "income               working class  \n",
       "credit_score              0.388366  \n",
       "vehicle_ownership             True  \n",
       "vehicle_year           before 2015  \n",
       "married                      False  \n",
       "children                     False  \n",
       "postal_code                  32765  \n",
       "annual_mileage               12000  \n",
       "vehicle_type                 sedan  \n",
       "speeding_violations              2  \n",
       "DUIs                             0  \n",
       "past_accidents                   1  \n",
       "outcome                       True  "
      ]
     },
     "execution_count": 9,
     "metadata": {},
     "output_type": "execute_result"
    }
   ],
   "source": [
    "df_raw_cust.head().transpose()"
   ]
  },
  {
   "cell_type": "code",
   "execution_count": 10,
   "metadata": {},
   "outputs": [
    {
     "data": {
      "text/plain": [
       "False    6867\n",
       "True     3133\n",
       "Name: outcome, dtype: int64"
      ]
     },
     "execution_count": 10,
     "metadata": {},
     "output_type": "execute_result"
    }
   ],
   "source": [
    "df_raw_cust.loc[:, \"outcome\"].value_counts()"
   ]
  },
  {
   "cell_type": "markdown",
   "metadata": {},
   "source": [
    "### Q1. what proportion of customers with credit_score under .2 made a claim?"
   ]
  },
  {
   "cell_type": "code",
   "execution_count": 11,
   "metadata": {},
   "outputs": [],
   "source": [
    "df_score_claim = df_raw_cust.loc[:, [\"credit_score\", \"outcome\"]].copy()"
   ]
  },
  {
   "cell_type": "code",
   "execution_count": 12,
   "metadata": {},
   "outputs": [],
   "source": [
    "# p(claim | c < .2) = p(claim, c < .2) / p(c < .2)\n",
    "joint = df_score_claim.loc[(df_score_claim[\"outcome\"]) & (df_score_claim[\"credit_score\"] < .2)]\n",
    "z = df_score_claim.loc[df_score_claim[\"credit_score\"] < .2]"
   ]
  },
  {
   "cell_type": "code",
   "execution_count": 13,
   "metadata": {},
   "outputs": [
    {
     "data": {
      "text/plain": [
       "0.6020408163265306"
      ]
     },
     "execution_count": 13,
     "metadata": {},
     "output_type": "execute_result"
    }
   ],
   "source": [
    "# conditional\n",
    "joint.shape[0] / z.shape[0]"
   ]
  },
  {
   "cell_type": "markdown",
   "metadata": {},
   "source": [
    "### Q2. average number of speeding violations 20 - 29 years of driving? what if sport cars only in this group?"
   ]
  },
  {
   "cell_type": "code",
   "execution_count": 14,
   "metadata": {},
   "outputs": [],
   "source": [
    "df_speeding_20_29 = df_raw_cust.loc[df_raw_cust[\"driving_experience\"] == \"20-29y\", [\"speeding_violations\", \"vehicle_type\"]]"
   ]
  },
  {
   "cell_type": "code",
   "execution_count": 15,
   "metadata": {},
   "outputs": [
    {
     "data": {
      "text/plain": [
       "2.734308636149127"
      ]
     },
     "execution_count": 15,
     "metadata": {},
     "output_type": "execute_result"
    }
   ],
   "source": [
    "df_speeding_20_29[\"speeding_violations\"].mean()"
   ]
  },
  {
   "cell_type": "code",
   "execution_count": 16,
   "metadata": {},
   "outputs": [
    {
     "data": {
      "text/plain": [
       "2.7777777777777777"
      ]
     },
     "execution_count": 16,
     "metadata": {},
     "output_type": "execute_result"
    }
   ],
   "source": [
    "df_speeding_20_29.loc[df_speeding_20_29[\"vehicle_type\"] == \"sports car\", \"speeding_violations\"].mean()"
   ]
  },
  {
   "cell_type": "markdown",
   "metadata": {},
   "source": [
    "### Q3. what's the annual mileage standard deviation?"
   ]
  },
  {
   "cell_type": "code",
   "execution_count": 17,
   "metadata": {},
   "outputs": [
    {
     "data": {
      "text/plain": [
       "2818.434528301786"
      ]
     },
     "execution_count": 17,
     "metadata": {},
     "output_type": "execute_result"
    }
   ],
   "source": [
    "df_raw_cust[\"annual_mileage\"].std()"
   ]
  },
  {
   "cell_type": "markdown",
   "metadata": {},
   "source": [
    "## Inference using Logistic Regression"
   ]
  },
  {
   "cell_type": "code",
   "execution_count": 18,
   "metadata": {},
   "outputs": [],
   "source": [
    "df_cust = df_raw_cust.drop(\"id\", axis=1).dropna()"
   ]
  },
  {
   "cell_type": "code",
   "execution_count": 19,
   "metadata": {},
   "outputs": [],
   "source": [
    "transformation_dict = {}\n",
    "# turn categorical features into numerical values\n",
    "multinominal = []\n",
    "for col in df_cust.select_dtypes(include=[\"object\"]):\n",
    "    df_cust.loc[:, col] = df_cust.loc[:, col].astype(\"category\")\n",
    "    if len(df_cust.loc[:, col].cat.categories) > 2:\n",
    "        multinominal.append(col)\n",
    "\n",
    "    transformation_dict.update(\n",
    "        {col: {k: v for (v, k) in enumerate(df_cust.loc[:, col].cat.categories)}})\n",
    "\n",
    "for col in df_cust.select_dtypes(include=[\"bool\"]):\n",
    "    df_cust.loc[:, col] = df_cust.loc[:, col].astype(int)\n",
    "\n",
    "transformation_dict.update(\n",
    "    {\"education\": {\"none\": 0, \"high school\": 1, \"university\": 2},\n",
    "     \"income\": {'middle class': 2, \"poverty\": 0, \"upper class\": 3, \"working class\": 1}})"
   ]
  },
  {
   "cell_type": "code",
   "execution_count": 20,
   "metadata": {},
   "outputs": [
    {
     "name": "stdout",
     "output_type": "stream",
     "text": [
      "{\n",
      "    \"age\": {\n",
      "        \"16-25\": 0,\n",
      "        \"26-39\": 1,\n",
      "        \"40-64\": 2,\n",
      "        \"65+\": 3\n",
      "    },\n",
      "    \"gender\": {\n",
      "        \"female\": 0,\n",
      "        \"male\": 1\n",
      "    },\n",
      "    \"race\": {\n",
      "        \"majority\": 0,\n",
      "        \"minority\": 1\n",
      "    },\n",
      "    \"driving_experience\": {\n",
      "        \"0-9y\": 0,\n",
      "        \"10-19y\": 1,\n",
      "        \"20-29y\": 2,\n",
      "        \"30y+\": 3\n",
      "    },\n",
      "    \"education\": {\n",
      "        \"none\": 0,\n",
      "        \"high school\": 1,\n",
      "        \"university\": 2\n",
      "    },\n",
      "    \"income\": {\n",
      "        \"middle class\": 2,\n",
      "        \"poverty\": 0,\n",
      "        \"upper class\": 3,\n",
      "        \"working class\": 1\n",
      "    },\n",
      "    \"vehicle_year\": {\n",
      "        \"after 2015\": 0,\n",
      "        \"before 2015\": 1\n",
      "    },\n",
      "    \"vehicle_type\": {\n",
      "        \"sedan\": 0,\n",
      "        \"sports car\": 1\n",
      "    }\n",
      "}\n"
     ]
    }
   ],
   "source": [
    "print(json.dumps(transformation_dict, indent=4))"
   ]
  },
  {
   "cell_type": "code",
   "execution_count": 21,
   "metadata": {},
   "outputs": [],
   "source": [
    "df_cust = df_cust.replace(transformation_dict)"
   ]
  },
  {
   "cell_type": "code",
   "execution_count": 23,
   "metadata": {},
   "outputs": [],
   "source": [
    "rf = RandomForestClassifier(n_estimators=100)"
   ]
  },
  {
   "cell_type": "code",
   "execution_count": 56,
   "metadata": {
    "scrolled": true
   },
   "outputs": [
    {
     "data": {
      "text/plain": [
       "RandomForestClassifier(bootstrap=True, class_weight=None, criterion='gini',\n",
       "                       max_depth=None, max_features='auto', max_leaf_nodes=None,\n",
       "                       min_impurity_decrease=0.0, min_impurity_split=None,\n",
       "                       min_samples_leaf=1, min_samples_split=2,\n",
       "                       min_weight_fraction_leaf=0.0, n_estimators=100,\n",
       "                       n_jobs=None, oob_score=False, random_state=None,\n",
       "                       verbose=0, warm_start=False)"
      ]
     },
     "execution_count": 56,
     "metadata": {},
     "output_type": "execute_result"
    }
   ],
   "source": [
    "rf.fit(df_cust.loc[:, df_cust.columns.difference([\"outcome\"])], df_cust[\"outcome\"])"
   ]
  },
  {
   "cell_type": "code",
   "execution_count": 62,
   "metadata": {},
   "outputs": [],
   "source": [
    "# feature importance per decision tree estimator\n",
    "feats_imporances = np.array([rf.estimators_[i].feature_importances_ for i in range(rf.n_estimators)])\n",
    "assert np.allclose(feats_imporances.mean(0), rf.feature_importances_)\n",
    "feats_df = pd.DataFrame(feats_imporances, columns=df_cust.loc[:, df_cust.columns.difference([\"outcome\"])].columns)"
   ]
  },
  {
   "cell_type": "code",
   "execution_count": 63,
   "metadata": {
    "scrolled": false
   },
   "outputs": [
    {
     "data": {
      "text/plain": [
       "Text(0.5, 1.0, 'feature importance (95% CI, n=100) using Decision Tree')"
      ]
     },
     "execution_count": 63,
     "metadata": {},
     "output_type": "execute_result"
    },
    {
     "data": {
      "image/png": "[encoded data removed]",
      "text/plain": [
       "<Figure size 600x400 with 1 Axes>"
      ]
     },
     "metadata": {},
     "output_type": "display_data"
    }
   ],
   "source": [
    "sns.barplot(data=feats_df, ci=95)\n",
    "plt.xticks(rotation=90)\n",
    "plt.title(\"feature importance (95% CI, n=100) using Decision Tree\")"
   ]
  },
  {
   "cell_type": "code",
   "execution_count": 64,
   "metadata": {},
   "outputs": [
    {
     "data": {
      "text/plain": [
       "<matplotlib.axes._subplots.AxesSubplot at 0x7fac118589b0>"
      ]
     },
     "execution_count": 64,
     "metadata": {},
     "output_type": "execute_result"
    },
    {
     "data": {
      "image/png": "[encoded data removed]",
      "text/plain": [
       "<Figure size 600x400 with 1 Axes>"
      ]
     },
     "metadata": {},
     "output_type": "display_data"
    }
   ],
   "source": [
    "sns.kdeplot(df_cust[\"credit_score\"][df_cust[\"outcome\"] == 1], label=\"claim\")\n",
    "sns.kdeplot(df_cust[\"credit_score\"][df_cust[\"outcome\"] == 0], label=\"no claim\")"
   ]
  },
  {
   "cell_type": "code",
   "execution_count": 65,
   "metadata": {
    "scrolled": false
   },
   "outputs": [
    {
     "data": {
      "text/plain": [
       "<matplotlib.axes._subplots.AxesSubplot at 0x7fac117d3470>"
      ]
     },
     "execution_count": 65,
     "metadata": {},
     "output_type": "execute_result"
    },
    {
     "data": {
      "image/png": "[encoded data removed]",
      "text/plain": [
       "<Figure size 600x400 with 1 Axes>"
      ]
     },
     "metadata": {},
     "output_type": "display_data"
    }
   ],
   "source": [
    "sns.countplot(x=\"driving_experience\", hue=\"outcome\", data=df_cust)"
   ]
  },
  {
   "cell_type": "code",
   "execution_count": 100,
   "metadata": {},
   "outputs": [],
   "source": [
    "# toy hypothesis, do men and women have same likelihood to make a claim?"
   ]
  },
  {
   "cell_type": "code",
   "execution_count": 101,
   "metadata": {},
   "outputs": [],
   "source": [
    "from statsmodels.stats.proportion import proportions_ztest"
   ]
  },
  {
   "cell_type": "code",
   "execution_count": 102,
   "metadata": {},
   "outputs": [
    {
     "name": "stdout",
     "output_type": "stream",
     "text": [
      "reject null hypothesis of no difference: True\n"
     ]
    }
   ],
   "source": [
    "z, p = proportions_ztest(df_cust.loc[:, [\"gender\", \"outcome\"]].groupby(\"gender\").sum()[\"outcome\"],\n",
    "                         df_cust[\"gender\"].value_counts(),\n",
    "                         value=0)\n",
    "print(f\"reject null hypothesis of no difference: {p < .01}\")"
   ]
  },
  {
   "cell_type": "code",
   "execution_count": 103,
   "metadata": {},
   "outputs": [],
   "source": [
    "# TODO more robust perhaps\n",
    "top_k_feats = feats_imporances.mean(axis=0).argsort()[-3:]"
   ]
  },
  {
   "cell_type": "code",
   "execution_count": 135,
   "metadata": {},
   "outputs": [],
   "source": [
    "df_cust_subset = \\\n",
    "    df_cust.loc[:, df_cust.loc[:, df_cust.columns.difference([\"outcome\"])].columns[top_k_feats].tolist() + [\"gender\", \"outcome\"]].copy()"
   ]
  },
  {
   "cell_type": "code",
   "execution_count": 197,
   "metadata": {},
   "outputs": [],
   "source": [
    "df_cust_subset = df_cust.loc[:, [\"income\", \"outcome\"]].copy()"
   ]
  },
  {
   "cell_type": "code",
   "execution_count": 198,
   "metadata": {},
   "outputs": [
    {
     "name": "stderr",
     "output_type": "stream",
     "text": [
      "/root/.virtualenvs/faculty/lib/python3.6/site-packages/statsmodels/nonparametric/kde.py:487: RuntimeWarning: invalid value encountered in true_divide\n",
      "  binned = fast_linbin(X, a, b, gridsize) / (delta * nobs)\n",
      "/root/.virtualenvs/faculty/lib/python3.6/site-packages/statsmodels/nonparametric/kdetools.py:34: RuntimeWarning: invalid value encountered in double_scalars\n",
      "  FAC1 = 2*(np.pi*bw/RANGE)**2\n"
     ]
    },
    {
     "data": {
      "text/plain": [
       "<seaborn.axisgrid.PairGrid at 0x7fac0939cb70>"
      ]
     },
     "execution_count": 198,
     "metadata": {},
     "output_type": "execute_result"
    },
    {
     "data": {
      "image/png": "[encoded data removed]",
      "text/plain": [
       "<Figure size 583.986x500 with 6 Axes>"
      ]
     },
     "metadata": {},
     "output_type": "display_data"
    }
   ],
   "source": [
    "sns.pairplot(df_cust_subset, hue=\"outcome\")"
   ]
  },
  {
   "cell_type": "code",
   "execution_count": 199,
   "metadata": {},
   "outputs": [],
   "source": [
    "class TorchLogisticRegression(nn.Module):\n",
    "    def __init__(self, p):\n",
    "        super(TorchLogisticRegression, self).__init__()\n",
    "        # nn.Linear includes p weights and 1 bias.\n",
    "        self.linear = nn.Linear(p, 1)\n",
    "        self.nonlinearity = nn.Sigmoid()\n",
    "\n",
    "    def logit(self, x):\n",
    "        return self.linear(x)\n",
    "\n",
    "    def forward(self, z):\n",
    "        return self.nonlinearity(self.logit(z))"
   ]
  },
  {
   "cell_type": "code",
   "execution_count": 200,
   "metadata": {},
   "outputs": [],
   "source": [
    "def bayes_logistic(X, y):\n",
    "    n, k = X.shape[0], X.shape[1]\n",
    "    w_prior = Normal(torch.zeros(1, k), torch.ones(1, k)).to_event(1)\n",
    "    b_prior = Normal(torch.tensor([[0.]]), torch.tensor([[10.]])).to_event(1)\n",
    "    priors = {\"linear.weight\": w_prior, \"linear.bias\": b_prior}\n",
    "    lifted_module = pyro.random_module(\"bayes_logistic\", frequentist_model, priors)\n",
    "    lifted_model = lifted_module()\n",
    "    with pyro.plate(\"customers\", n):\n",
    "        y_pred = lifted_model(X).squeeze(1)\n",
    "        pyro.sample(\"obs\", Bernoulli(y_pred, validate_args=True), obs=y)\n",
    "        return y_pred"
   ]
  },
  {
   "cell_type": "code",
   "execution_count": 201,
   "metadata": {},
   "outputs": [],
   "source": [
    "k = df_cust_subset.shape[1] - 1"
   ]
  },
  {
   "cell_type": "code",
   "execution_count": 202,
   "metadata": {},
   "outputs": [],
   "source": [
    "frequentist_model = TorchLogisticRegression(k)"
   ]
  },
  {
   "cell_type": "code",
   "execution_count": 203,
   "metadata": {},
   "outputs": [],
   "source": [
    "X, y = df_cust_subset.loc[:, df_cust_subset.columns.difference([\"outcome\"])], df_cust_subset[\"outcome\"]\n",
    "X_tensor = torch.tensor(X.values, dtype=torch.float32)\n",
    "y_tensor = torch.tensor(y.values, dtype=torch.float32)"
   ]
  },
  {
   "cell_type": "code",
   "execution_count": 204,
   "metadata": {},
   "outputs": [],
   "source": [
    "num_iterations = 1000"
   ]
  },
  {
   "cell_type": "code",
   "execution_count": 205,
   "metadata": {},
   "outputs": [],
   "source": [
    "q = AutoDiagonalNormal(bayes_logistic)\n",
    "svi = SVI(bayes_logistic, q, Adam({\"lr\": 1e-2}), loss=Trace_ELBO(), num_samples=1000)"
   ]
  },
  {
   "cell_type": "code",
   "execution_count": 206,
   "metadata": {},
   "outputs": [],
   "source": [
    "pyro.clear_param_store()"
   ]
  },
  {
   "cell_type": "code",
   "execution_count": 207,
   "metadata": {},
   "outputs": [
    {
     "name": "stdout",
     "output_type": "stream",
     "text": [
      "1.1927671499201997\n",
      "0.5345880076817638\n",
      "0.5349310227940749\n",
      "0.5350067061373815\n",
      "0.5344188035170803\n",
      "0.5347795938038215\n",
      "0.5343746686365023\n",
      "0.5343914323093584\n",
      "0.5345202531532534\n",
      "0.5348928524886396\n"
     ]
    }
   ],
   "source": [
    "for i in range(num_iterations *  5):\n",
    "    elbo = svi.step(X_tensor, y_tensor)\n",
    "    if not i % 500:\n",
    "        print(elbo / X_tensor.size(0))"
   ]
  },
  {
   "cell_type": "code",
   "execution_count": 208,
   "metadata": {
    "scrolled": true
   },
   "outputs": [
    {
     "name": "stdout",
     "output_type": "stream",
     "text": [
      "auto_loc tensor([-0.8449,  0.6056], requires_grad=True) torch.Size([2])\n",
      "auto_scale tensor([0.0137, 0.0281], grad_fn=<AddBackward0>) torch.Size([2])\n"
     ]
    }
   ],
   "source": [
    "for name, value in pyro.get_param_store().items():\n",
    "    print(name, pyro.param(name), pyro.param(name).size())"
   ]
  },
  {
   "cell_type": "code",
   "execution_count": 209,
   "metadata": {},
   "outputs": [
    {
     "name": "stderr",
     "output_type": "stream",
     "text": [
      "sample: 100%|██████████| 1200/1200 [00:15<00:00, 77.53it/s, step size=4.93e-01, acc. prob=0.918]\n"
     ]
    }
   ],
   "source": [
    "nuts_kernel = NUTS(bayes_logistic)\n",
    "mcmc = MCMC(nuts_kernel, num_samples=num_iterations, warmup_steps=200)\n",
    "pyro.clear_param_store()\n",
    "mcmc.run(X_tensor, y_tensor)"
   ]
  },
  {
   "cell_type": "code",
   "execution_count": 210,
   "metadata": {},
   "outputs": [],
   "source": [
    "hmc_samples = {k: v for k, v in mcmc.get_samples().items()}"
   ]
  },
  {
   "cell_type": "code",
   "execution_count": 211,
   "metadata": {},
   "outputs": [
    {
     "name": "stdout",
     "output_type": "stream",
     "text": [
      "\n",
      "\n",
      "                                         mean       std    median      5.0%     95.0%     n_eff     r_hat\n",
      "bayes_logistic$$$linear.weight[0,0]     -0.82      0.02     -0.82     -0.86     -0.78    213.25      1.00\n",
      "  bayes_logistic$$$linear.bias[0,0]      0.63      0.04      0.63      0.56      0.70    258.26      1.01\n",
      "\n",
      "\n"
     ]
    }
   ],
   "source": [
    "summary(hmc_samples)"
   ]
  },
  {
   "cell_type": "code",
   "execution_count": 212,
   "metadata": {},
   "outputs": [
    {
     "data": {
      "text/plain": [
       "(array([[-0.81358297]]), array([0.622895]))"
      ]
     },
     "execution_count": 212,
     "metadata": {},
     "output_type": "execute_result"
    }
   ],
   "source": [
    "sklearn_model = LogisticRegression(solver=\"lbfgs\")\n",
    "sklearn_model.fit(X, y)\n",
    "sklearn_model.coef_, sklearn_model.intercept_"
   ]
  },
  {
   "cell_type": "code",
   "execution_count": 170,
   "metadata": {},
   "outputs": [],
   "source": [
    "def get_marginal(traces, sites):\n",
    "    return EmpiricalMarginal(traces, sites)._get_samples_and_weights()[0].detach().cpu().numpy()"
   ]
  },
  {
   "cell_type": "code",
   "execution_count": null,
   "metadata": {},
   "outputs": [],
   "source": [
    "def summary(traces, sites):\n",
    "    marginal = get_marginal(traces, sites)\n",
    "    site_stats = {}\n",
    "    for i in range(marginal.shape[1]):\n",
    "        site_name = sites[i]\n",
    "        marginal_site = pd.DataFrame(marginal[:, i]).transpose()\n",
    "        describe = partial(pd.Series.describe, percentiles=[.05, 0.25, 0.5, 0.75, 0.95])\n",
    "        site_stats[site_name] = marginal_site.apply(describe, axis=1) \\\n",
    "            [[\"mean\", \"std\", \"5%\", \"25%\", \"50%\", \"75%\", \"95%\"]]\n",
    "    return site_stats"
   ]
  },
  {
   "cell_type": "code",
   "execution_count": null,
   "metadata": {},
   "outputs": [],
   "source": [
    "def wrapped_model(x_data, y_data):\n",
    "    pyro.sample(\"prediction\", Delta(bayes_logistic(x_data, y_data)))"
   ]
  },
  {
   "cell_type": "markdown",
   "metadata": {},
   "source": [
    "posterior = svi.run(X, y)"
   ]
  },
  {
   "cell_type": "markdown",
   "metadata": {},
   "source": [
    "trace_pred = TracePredictive(wrapped_model, posterior, num_samples=1000)\n",
    "post_pred = trace_pred.run(X, None)\n",
    "post_summary = summary(post_pred, sites=['prediction', 'binary_obs'])\n",
    "mu = post_summary[\"prediction\"]\n",
    "y_summary = post_summary[\"binary_obs\"]"
   ]
  },
  {
   "cell_type": "markdown",
   "metadata": {},
   "source": [
    "marginal = get_marginal(post_pred, sites=['prediction', 'binary_obs'])"
   ]
  },
  {
   "cell_type": "markdown",
   "metadata": {},
   "source": [
    "# posterior predictive on obs 1"
   ]
  },
  {
   "cell_type": "markdown",
   "metadata": {},
   "source": [
    "y_summary.loc[9]"
   ]
  },
  {
   "cell_type": "markdown",
   "metadata": {},
   "source": [
    "sns.distplot(marginal[:, 1, 9], kde=True)"
   ]
  },
  {
   "cell_type": "code",
   "execution_count": null,
   "metadata": {},
   "outputs": [],
   "source": []
  }
 ],
 "metadata": {
  "kernelspec": {
   "display_name": "Python 3",
   "language": "python",
   "name": "python3"
  },
  "language_info": {
   "codemirror_mode": {
    "name": "ipython",
    "version": 3
   },
   "file_extension": ".py",
   "mimetype": "text/x-python",
   "name": "python",
   "nbconvert_exporter": "python",
   "pygments_lexer": "ipython3",
   "version": "3.6.8"
  }
 },
 "nbformat": 4,
 "nbformat_minor": 2
}
