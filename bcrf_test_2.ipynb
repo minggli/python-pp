{
 "cells": [
  {
   "cell_type": "markdown",
   "metadata": {},
   "source": [
    "## Pyro, Bayesian analysis, and attempt on BCRF (Qi et al 2005)"
   ]
  },
  {
   "cell_type": "code",
   "execution_count": 1,
   "metadata": {},
   "outputs": [],
   "source": [
    "import pyro\n",
    "from pyro.distributions import Normal, Uniform\n",
    "import pyro.distributions as dist\n",
    "from pyro.infer import SVI, Trace_ELBO, EmpiricalMarginal, TraceEnum_ELBO, JitTraceEnum_ELBO\n",
    "from pyro.infer.mcmc import MCMC, NUTS\n",
    "from pyro.optim import Adam\n",
    "from pyro.util import ignore_jit_warnings\n",
    "from pyro.contrib.autoguide import AutoDelta\n",
    "\n",
    "import torch\n",
    "import torch.nn as nn\n",
    "\n",
    "import numpy as np\n",
    "import pandas as pd\n",
    "\n",
    "import matplotlib.pyplot as plt\n",
    "plt.style.use('ggplot')\n",
    "import seaborn as sns"
   ]
  },
  {
   "cell_type": "code",
   "execution_count": 2,
   "metadata": {},
   "outputs": [],
   "source": [
    "DATA_URL = \"https://d2fefpcigoriu7.cloudfront.net/datasets/rugged_data.csv\"\n",
    "data = pd.read_csv(DATA_URL, encoding=\"ISO-8859-1\")\n",
    "df = data[[\"cont_africa\", \"rugged\", \"rgdppc_2000\"]]\n",
    "df = df[np.isfinite(df.rgdppc_2000)]\n",
    "df[\"rgdppc_2000\"] = np.log(df[\"rgdppc_2000\"])"
   ]
  },
  {
   "cell_type": "code",
   "execution_count": 3,
   "metadata": {},
   "outputs": [],
   "source": [
    "data = torch.tensor(df.values, dtype=torch.float)\n",
    "x_data, y_data = data[:, :-1], data[:, -1]"
   ]
  },
  {
   "cell_type": "code",
   "execution_count": 4,
   "metadata": {},
   "outputs": [],
   "source": [
    "def model(x_data, y_data):\n",
    "    n = len(x_data)\n",
    "\n",
    "    # w, b, sigma parameter is outside of plate, independent of N\n",
    "    weight = pyro.sample(\"w\", dist.Normal(torch.zeros(1, 2), torch.ones(1, 2)))\n",
    "    bias = pyro.sample(\"b\", dist.Normal(torch.tensor([[0.]]), torch.tensor([[100.]])))\n",
    "    sigma = pyro.sample(\"epsilon\", Uniform(0., 10.))\n",
    "\n",
    "    with pyro.plate(\"map\", n):\n",
    "        mu = (x_data[:, 0] * weight[0][0] + x_data[:, 1] * weight[0][1] + bias).squeeze(1)\n",
    "        yhat = pyro.sample(\"yhat\", Normal(mu, sigma), obs=y_data)\n",
    "        return yhat"
   ]
  },
  {
   "cell_type": "markdown",
   "metadata": {},
   "source": [
    "## Stochastic Variational Inference with spherical gaussian on linear regression"
   ]
  },
  {
   "cell_type": "code",
   "execution_count": 5,
   "metadata": {},
   "outputs": [],
   "source": [
    "from pyro.contrib.autoguide import AutoDiagonalNormal\n",
    "mean_field_guide = AutoDiagonalNormal(model)\n",
    "\n",
    "# inject callables into SVI instantiation\n",
    "svi = SVI(model, mean_field_guide, Adam({\"lr\": 0.03}), loss=Trace_ELBO(), num_samples=1000)"
   ]
  },
  {
   "cell_type": "code",
   "execution_count": 6,
   "metadata": {},
   "outputs": [
    {
     "name": "stdout",
     "output_type": "stream",
     "text": [
      "[iteration 0001] loss: 201.0890\n",
      "[iteration 0501] loss: 4.4281\n",
      "[iteration 1001] loss: 3.9721\n",
      "[iteration 1501] loss: 3.5689\n"
     ]
    }
   ],
   "source": [
    "pyro.clear_param_store()\n",
    "for j in range(2000):\n",
    "    loss = svi.step(x_data, y_data)\n",
    "    if j % 500 == 0:\n",
    "        print(\"[iteration %04d] loss: %.4f\" % (j + 1, loss / len(data)))"
   ]
  },
  {
   "cell_type": "code",
   "execution_count": 7,
   "metadata": {},
   "outputs": [
    {
     "name": "stdout",
     "output_type": "stream",
     "text": [
      "auto_loc tensor([-3.8459, -3.6646, 18.8126,  0.6742], requires_grad=True)\n",
      "auto_scale tensor([0.5787, 0.4992, 0.6136, 0.4052], grad_fn=<AddBackward0>)\n"
     ]
    }
   ],
   "source": [
    "for name, value in pyro.get_param_store().items():\n",
    "    print(name, pyro.param(name))"
   ]
  },
  {
   "cell_type": "markdown",
   "metadata": {},
   "source": [
    "## No-U-turn Sampler"
   ]
  },
  {
   "cell_type": "code",
   "execution_count": 8,
   "metadata": {},
   "outputs": [
    {
     "name": "stderr",
     "output_type": "stream",
     "text": [
      "Sample: 100%|██████████| 700/700 [00:17<00:00, 37.70it/s, step size=1.30e-01, acc. prob=0.968]\n"
     ]
    }
   ],
   "source": [
    "pyro.clear_param_store()\n",
    "\n",
    "nuts = NUTS(model)\n",
    "sampler = MCMC(nuts,\n",
    "               num_samples=600,\n",
    "               num_chains=1,\n",
    "               # burn-in\n",
    "               warmup_steps=100)\n",
    "traces = sampler.run(x_data, y_data)"
   ]
  },
  {
   "cell_type": "code",
   "execution_count": 9,
   "metadata": {},
   "outputs": [],
   "source": [
    "posteriors = traces.marginal([\"w\", \"b\", \"epsilon\"])"
   ]
  },
  {
   "cell_type": "code",
   "execution_count": 10,
   "metadata": {},
   "outputs": [],
   "source": [
    "a = posteriors.empirical[\"epsilon\"]"
   ]
  },
  {
   "cell_type": "code",
   "execution_count": 11,
   "metadata": {},
   "outputs": [],
   "source": [
    "def get_marginal(traces, sites):\n",
    "    return EmpiricalMarginal(traces, sites)._get_samples_and_weights()[0].detach().cpu().numpy()"
   ]
  },
  {
   "cell_type": "code",
   "execution_count": 12,
   "metadata": {
    "scrolled": true
   },
   "outputs": [],
   "source": [
    "posterior_weight = posteriors.empirical[\"w\"]\n",
    "posterior_bias = posteriors.empirical[\"b\"]\n",
    "posterior_epsilon = posteriors.empirical[\"epsilon\"]"
   ]
  },
  {
   "cell_type": "code",
   "execution_count": 13,
   "metadata": {},
   "outputs": [
    {
     "data": {
      "text/plain": [
       "<matplotlib.axes._subplots.AxesSubplot at 0x7f60f8164358>"
      ]
     },
     "execution_count": 13,
     "metadata": {},
     "output_type": "execute_result"
    },
    {
     "data": {
      "image/png": "[encoded data removed]",
      "text/plain": [
       "<Figure size 432x288 with 1 Axes>"
      ]
     },
     "metadata": {
      "needs_background": "light"
     },
     "output_type": "display_data"
    }
   ],
   "source": [
    "sns.distplot(posterior_weight((10000, )).squeeze(1)[:, 0])"
   ]
  },
  {
   "cell_type": "code",
   "execution_count": 14,
   "metadata": {
    "scrolled": true
   },
   "outputs": [
    {
     "data": {
      "text/plain": [
       "<matplotlib.axes._subplots.AxesSubplot at 0x7f60f8027438>"
      ]
     },
     "execution_count": 14,
     "metadata": {},
     "output_type": "execute_result"
    },
    {
     "data": {
      "image/png": "[encoded data removed]",
      "text/plain": [
       "<Figure size 432x288 with 1 Axes>"
      ]
     },
     "metadata": {
      "needs_background": "light"
     },
     "output_type": "display_data"
    }
   ],
   "source": [
    "sns.distplot(posterior_weight((10000, )).squeeze(1)[:, 1])"
   ]
  },
  {
   "cell_type": "code",
   "execution_count": 15,
   "metadata": {},
   "outputs": [
    {
     "data": {
      "text/plain": [
       "<matplotlib.axes._subplots.AxesSubplot at 0x7f60e89a4898>"
      ]
     },
     "execution_count": 15,
     "metadata": {},
     "output_type": "execute_result"
    },
    {
     "data": {
      "image/png": "[encoded data removed]",
      "text/plain": [
       "<Figure size 432x288 with 1 Axes>"
      ]
     },
     "metadata": {
      "needs_background": "light"
     },
     "output_type": "display_data"
    }
   ],
   "source": [
    "sns.distplot(posterior_bias((10000, )))"
   ]
  },
  {
   "cell_type": "code",
   "execution_count": 16,
   "metadata": {
    "scrolled": true
   },
   "outputs": [
    {
     "data": {
      "text/plain": [
       "<matplotlib.axes._subplots.AxesSubplot at 0x7f60e88dada0>"
      ]
     },
     "execution_count": 16,
     "metadata": {},
     "output_type": "execute_result"
    },
    {
     "data": {
      "image/png": "[encoded data removed]",
      "text/plain": [
       "<Figure size 432x288 with 1 Axes>"
      ]
     },
     "metadata": {
      "needs_background": "light"
     },
     "output_type": "display_data"
    }
   ],
   "source": [
    "sns.distplot(posterior_epsilon((10000, )))"
   ]
  },
  {
   "cell_type": "markdown",
   "metadata": {},
   "source": [
    "## vanila HMM before going BCRF (Qi et al. 2005)"
   ]
  },
  {
   "cell_type": "code",
   "execution_count": 2,
   "metadata": {},
   "outputs": [],
   "source": [
    "# adopted from HMM tutorials at: https://pyro.ai/examples/hmm.html"
   ]
  },
  {
   "cell_type": "code",
   "execution_count": 60,
   "metadata": {},
   "outputs": [],
   "source": [
    "# Pyro's poutine handles effects \n",
    "from pyro import poutine\n",
    "import dmm.polyphonic_data_loader as poly\n"
   ]
  },
  {
   "cell_type": "code",
   "execution_count": 166,
   "metadata": {},
   "outputs": [],
   "source": [
    "class MockArgs():\n",
    "    num_steps=50\n",
    "    hidden_dim=16\n",
    "    nn_dim=48\n",
    "    batch_size=32\n",
    "    nn_channels=2\n",
    "    learning_rate=0.05\n",
    "    truncate=None\n",
    "    print_shapes=False\n",
    "    jit=True\n",
    "    cuda=True\n",
    "    raftery_parameterization=True"
   ]
  },
  {
   "cell_type": "code",
   "execution_count": 5,
   "metadata": {},
   "outputs": [],
   "source": [
    "args = MockArgs()"
   ]
  },
  {
   "cell_type": "code",
   "execution_count": 6,
   "metadata": {},
   "outputs": [],
   "source": [
    "if args.cuda:\n",
    "    torch.set_default_tensor_type('torch.cuda.FloatTensor')"
   ]
  },
  {
   "cell_type": "code",
   "execution_count": 7,
   "metadata": {},
   "outputs": [],
   "source": [
    "# JSB Chorales dataset, pianos keys pressed out of 88 keys.\n",
    "# Modeling Temporal Dependencies in High-Dimensional Sequences: Application to Polyphonic Music Generation and Transcription\n",
    "# http://www-etud.iro.umontreal.ca/~boulanni/icml2012\n",
    "data = poly.load_data(poly.JSB_CHORALES)"
   ]
  },
  {
   "cell_type": "code",
   "execution_count": 8,
   "metadata": {},
   "outputs": [],
   "source": [
    "sequences = data['train']['sequences']\n",
    "lengths = data['train']['sequence_lengths']"
   ]
  },
  {
   "cell_type": "code",
   "execution_count": 9,
   "metadata": {},
   "outputs": [],
   "source": [
    "# only some keys of this piano were pressed, some not, so reduce dimension of the sequence\n",
    "notes_pressed = ((sequences == 1).sum(0).sum(0) > 0)"
   ]
  },
  {
   "cell_type": "code",
   "execution_count": 10,
   "metadata": {},
   "outputs": [],
   "source": [
    "sequences = sequences[:, :, notes_pressed]"
   ]
  },
  {
   "cell_type": "code",
   "execution_count": 11,
   "metadata": {},
   "outputs": [],
   "source": [
    "if args.truncate:\n",
    "    lengths.clamp_(max=args.truncate)\n",
    "    sequences = sequences[:, :args.truncate]\n",
    "num_observations = float(lengths.sum())"
   ]
  },
  {
   "cell_type": "code",
   "execution_count": 12,
   "metadata": {},
   "outputs": [],
   "source": [
    "def model_1(sequences, lengths, args, batch_size=None, include_prior=True):\n",
    "    # Sometimes it is safe to ignore jit warnings. Here we use the\n",
    "    # pyro.util.ignore_jit_warnings context manager to silence warnings about\n",
    "    # conversion to integer, since we know all three numbers will be the same\n",
    "    # across all invocations to the model.\n",
    "    with ignore_jit_warnings():\n",
    "        num_sequences, max_length, data_dim = map(int, sequences.shape)\n",
    "        assert lengths.shape == (num_sequences, )\n",
    "        assert lengths.max() <= max_length\n",
    "\n",
    "    with poutine.mask(mask=include_prior):\n",
    "        # to_event seperates n right-most dimension as event dimension from batch dimension.\n",
    "        # transition probability p(y_t | y_t-1)\n",
    "        probs_x = pyro.sample(\"probs_x\", dist.Dirichlet(0.9 * torch.eye(args.hidden_dim) + 0.1).to_event(1))\n",
    "        # emission probability p(x_t | y_t)\n",
    "        probs_y = pyro.sample(\"probs_y\", dist.Beta(0.1, 0.9).expand([args.hidden_dim, data_dim]).to_event(2))\n",
    "\n",
    "    # nodes_plate in shape [DATA_DIM], in this case 51 dimension of each observation\n",
    "    nodes_plate = pyro.plate(\"nodes\", data_dim, dim=-1)\n",
    "    # We subsample batch_size items out of num_sequences items. Note that since\n",
    "    # we're using dim=-1 for the notes plate, we need to batch over a different\n",
    "    # dimension, here dim=-2.\n",
    "\n",
    "    with pyro.plate(\"sequences\", size=num_sequences, subsample_size=batch_size, dim=-2) as batch:\n",
    "        # here batch is indice of subsampled, in shape [BATCH_SIZE, 1].\n",
    "        batch_lengths = lengths[batch]\n",
    "\n",
    "        x = 0\n",
    "        for t in pyro.markov(range(max_length if args.jit else batch_lengths.max())):\n",
    "            with poutine.mask(mask=(t < batch_lengths).unsqueeze(-1)):\n",
    "                hidden_states = probs_x[x]\n",
    "                x = pyro.sample(\"x_{}\".format(t), dist.Categorical(hidden_states), infer={\"enumerate\": \"parallel\"})\n",
    "                # x is sampled from categorical distribution of [0, 1, 2, ..., hidden_dim], in batch\n",
    "                # x is the hidden states in shape [BATCH_SIZE] at markov process at time t, of latent variable probs_x\n",
    "                # nodes_plate is plate of N := data_dim\n",
    "                with nodes_plate:\n",
    "                    # y in size [BATCH_SIZE, DATA_DIM], generated by hidden_states at time t, which is x.\n",
    "                    probs_y_given_hidden_state = probs_y[x.squeeze(-1)]\n",
    "                    # bernoulli distribution because the music tones of data_dim 51 dimension is binary\n",
    "                    y = pyro.sample(\"y_{}\".format(t), dist.Bernoulli(probs_y_given_hidden_state),\n",
    "                                    # observed these y at t\n",
    "                                    obs=sequences[batch, t])"
   ]
  },
  {
   "cell_type": "code",
   "execution_count": 13,
   "metadata": {},
   "outputs": [],
   "source": [
    "model = model_1"
   ]
  },
  {
   "cell_type": "code",
   "execution_count": 14,
   "metadata": {},
   "outputs": [],
   "source": [
    "from pyro.contrib.autoguide import AutoDelta, AutoDiagonalNormal\n",
    "# Delta distribution for constrained MAP inference\n",
    "guide = AutoDelta(poutine.block(model, expose_fn=lambda msg: msg[\"name\"].startswith(\"probs_\")))"
   ]
  },
  {
   "cell_type": "code",
   "execution_count": 15,
   "metadata": {},
   "outputs": [],
   "source": [
    "elbo = JitTraceEnum_ELBO(max_plate_nesting=2, strict_enumeration_warning=True)\n",
    "optim = Adam({'lr': 1e-3})\n",
    "svi = SVI(model, guide, optim, elbo)"
   ]
  },
  {
   "cell_type": "code",
   "execution_count": 16,
   "metadata": {
    "scrolled": true
   },
   "outputs": [
    {
     "name": "stdout",
     "output_type": "stream",
     "text": [
      "    0\t23.585314514376766\n",
      "   10\t18.347283081045845\n",
      "   20\t23.859310494676613\n",
      "   30\t25.50762747157239\n",
      "   40\t23.256991471717246\n"
     ]
    }
   ],
   "source": [
    "pyro.clear_param_store()\n",
    "for step in range(args.num_steps):\n",
    "    loss = svi.step(sequences,\n",
    "                    lengths, args=args, batch_size=args.batch_size, include_prior=False)\n",
    "    if not step % 10:\n",
    "        print('{: >5d}\\t{}'.format(step, loss / num_observations))"
   ]
  },
  {
   "cell_type": "markdown",
   "metadata": {},
   "source": [
    "## Applying Turk data 20190716"
   ]
  },
  {
   "cell_type": "code",
   "execution_count": 149,
   "metadata": {},
   "outputs": [],
   "source": [
    "num_sequences, max_length, data_dim = map(int, sequences.shape)"
   ]
  },
  {
   "cell_type": "code",
   "execution_count": 150,
   "metadata": {},
   "outputs": [],
   "source": [
    "import string\n",
    "from pathlib import Path\n",
    "from typing import Union, Tuple, Iterable\n",
    "from smart_open import open"
   ]
  },
  {
   "cell_type": "code",
   "execution_count": 151,
   "metadata": {},
   "outputs": [],
   "source": [
    "def simple_bioes_parser(path: Union[Path, str]) -> Tuple:\n",
    "    \"\"\"simple parser for BIOES to BIO and remove puntuations\"\"\"\n",
    "    document_container = []\n",
    "    sequence_container = []\n",
    "    length_container = []\n",
    "\n",
    "    with open(path, \"r\") as f:\n",
    "        for line in f.readlines():\n",
    "            length = len(sequence_container)\n",
    "            line = line.rstrip()\n",
    "\n",
    "            # naively detect sentence boundary\n",
    "            if len(line) < 2:\n",
    "                if length > 0:\n",
    "                    length_container.append(length)\n",
    "                    document_container.append(list(zip(*sequence_container)))\n",
    "                    sequence_container = []\n",
    "                    continue\n",
    "\n",
    "            try:\n",
    "                word, entity_type = line.split('\\t')\n",
    "            except ValueError:\n",
    "                continue\n",
    "\n",
    "            if word in string.punctuation:\n",
    "                continue\n",
    "\n",
    "            # skip lemmatization for later.\n",
    "            word = word.lower()\n",
    "\n",
    "            if \"-\" in entity_type:\n",
    "                a, b = entity_type.split(\"-\")\n",
    "                a = a.translate(str.maketrans(\"ES\", \"IB\"))\n",
    "                entity_type = \"-\".join([a, b])\n",
    "\n",
    "            sequence_container.append(tuple([word, entity_type]))\n",
    "\n",
    "        for d, l in zip(document_container, length_container):\n",
    "            tokens, ents = d\n",
    "            assert len(tokens) == l\n",
    "            assert len(ents) == l\n",
    "\n",
    "    return document_container"
   ]
  },
  {
   "cell_type": "code",
   "execution_count": 152,
   "metadata": {},
   "outputs": [],
   "source": [
    "raw_documents = simple_bioes_parser(\"./data/turk_ner_20190716.txt\")\n",
    "raw_lengths = [len(d[0]) for d in raw_documents]"
   ]
  },
  {
   "cell_type": "code",
   "execution_count": 153,
   "metadata": {},
   "outputs": [],
   "source": [
    "START_TAG = \"<START>\"\n",
    "STOP_TAG = \"<STOP>\"\n",
    "\n",
    "word_to_ix = {}\n",
    "tag_to_ix = {}\n",
    "for sentence, tags in raw_documents:\n",
    "    for word in sentence:\n",
    "        if word not in word_to_ix:\n",
    "            word_to_ix[word] = len(word_to_ix)\n",
    "    for tag in tags:\n",
    "        if tag not in tag_to_ix:\n",
    "            tag_to_ix[tag] = len(tag_to_ix)\n",
    "\n",
    "tag_to_ix[START_TAG] = len(tag_to_ix)\n",
    "tag_to_ix[STOP_TAG] = len(tag_to_ix)"
   ]
  },
  {
   "cell_type": "code",
   "execution_count": 154,
   "metadata": {},
   "outputs": [],
   "source": [
    "tokenized_sents = [i[0] for i in raw_documents]"
   ]
  },
  {
   "cell_type": "code",
   "execution_count": 155,
   "metadata": {},
   "outputs": [],
   "source": [
    "from gensim.corpora import Dictionary"
   ]
  },
  {
   "cell_type": "code",
   "execution_count": 156,
   "metadata": {},
   "outputs": [],
   "source": [
    "dct = Dictionary(tokenized_sents)\n",
    "dct.filter_extremes()\n",
    "dct.compactify()\n",
    "# unknown token last in the vocabulary\n",
    "dct.token2id[\"UNK\"] = len(dct)"
   ]
  },
  {
   "cell_type": "code",
   "execution_count": 157,
   "metadata": {},
   "outputs": [],
   "source": [
    "data_dim = len(dct)"
   ]
  },
  {
   "cell_type": "code",
   "execution_count": 158,
   "metadata": {},
   "outputs": [],
   "source": [
    "e = torch.eye(data_dim, dtype=torch.long, requires_grad=False)"
   ]
  },
  {
   "cell_type": "code",
   "execution_count": 170,
   "metadata": {},
   "outputs": [],
   "source": [
    "args.hidden_dim = len(tag_to_ix)"
   ]
  },
  {
   "cell_type": "code",
   "execution_count": 159,
   "metadata": {},
   "outputs": [],
   "source": [
    "tokenized_sequences, tokenized_entities = list(zip(*raw_documents))"
   ]
  },
  {
   "cell_type": "code",
   "execution_count": 160,
   "metadata": {},
   "outputs": [],
   "source": [
    "idx_sents = list(map(tensorize_sentence, tokenized_sequences))"
   ]
  },
  {
   "cell_type": "code",
   "execution_count": 161,
   "metadata": {},
   "outputs": [],
   "source": [
    "idx_ents = list(map(lambda x: tensorize_entities(x, tag_to_ix), tokenized_entities))"
   ]
  },
  {
   "cell_type": "code",
   "execution_count": 162,
   "metadata": {},
   "outputs": [],
   "source": [
    "lengths = torch.tensor([len(d[0]) for d in raw_documents])"
   ]
  },
  {
   "cell_type": "code",
   "execution_count": 163,
   "metadata": {},
   "outputs": [],
   "source": [
    "def BHMM(sequences, targets, lengths, args, include_prior=True):\n",
    "    # Sometimes it is safe to ignore jit warnings. Here we use the\n",
    "    # pyro.util.ignore_jit_warnings context manager to silence warnings about\n",
    "    # conversion to integer, since we know all three numbers will be the same\n",
    "    # across all invocations to the model.\n",
    "    with ignore_jit_warnings():\n",
    "        num_sequences, max_length, data_dim = map(int, sequences.shape)\n",
    "        assert lengths.shape == (num_sequences, )\n",
    "        assert lengths.max() <= max_length\n",
    "\n",
    "    with poutine.mask(mask=include_prior):\n",
    "        # to_event seperates n right-most dimension as event dimension from batch dimension.\n",
    "        # transition probability p(y_t | y_t-1)\n",
    "        probs_x = pyro.sample(\"probs_x\", dist.Dirichlet(0.9 * torch.eye(args.hidden_dim) + 0.1).to_event(1))\n",
    "        # emission probability p(x_t | y_t)\n",
    "        probs_y = pyro.sample(\"probs_y\", dist.Beta(0.1, 0.9).expand([args.hidden_dim, data_dim]).to_event(2))\n",
    "\n",
    "    # nodes_plate in shape [DATA_DIM], in this case 51 dimension of each observation\n",
    "    nodes_plate = pyro.plate(\"nodes\", data_dim, dim=-1)\n",
    "    # We subsample batch_size items out of num_sequences items. Note that since\n",
    "    # we're using dim=-1 for the notes plate, we need to batch over a different\n",
    "    # dimension, here dim=-2.\n",
    "\n",
    "    with pyro.plate(\"sequences\", size=num_sequences, subsample_size=args.batch_size, dim=-2) as batch:\n",
    "        # here batch is indice of subsampled, in shape [BATCH_SIZE, 1].\n",
    "        batch_lengths = lengths[batch]\n",
    "        batch_sequences = make_batch(batch, data=sentence, identity=e)\n",
    "        batch_targets = make_batch(batch, data=targets)\n",
    "\n",
    "        x = 0\n",
    "        for t in pyro.markov(range(max_length if args.jit else batch_lengths.max())):\n",
    "            with poutine.mask(mask=(t < batch_lengths).unsqueeze(-1)):\n",
    "                hidden_states = probs_x[x]\n",
    "                x = pyro.sample(\"x_{}\".format(t),\n",
    "                                dist.Categorical(hidden_states),\n",
    "                                infer={\"enumerate\": \"parallel\"},\n",
    "                                obs=batch_targets)\n",
    "                # x is sampled from categorical distribution of [0, 1, 2, ..., tag_size], in batch\n",
    "                # x is the hidden states in shape [BATCH_SIZE] at markov process at time t, of latent variable probs_x\n",
    "                # nodes_plate is plate of N := data_dim\n",
    "                with nodes_plate:\n",
    "                    # y in size [BATCH_SIZE, DATA_DIM], generated by hidden_states at time t, which is x.\n",
    "                    probs_y_given_hidden_state = probs_y[x.squeeze(-1)]\n",
    "                    # Categorical distribution for observable word generated from latent variable at z of certain value\n",
    "                    y = pyro.sample(\"y_{}\".format(t), dist.Categorical(probs_y_given_hidden_state),\n",
    "                                    # observed these y at t\n",
    "                                    obs=batch_sequences[batch, t])\n"
   ]
  },
  {
   "cell_type": "code",
   "execution_count": 164,
   "metadata": {},
   "outputs": [],
   "source": [
    "def tensorize_sentence(seq):\n",
    "    idxs = dct.doc2idx(seq, unknown_word_index=-1)\n",
    "    return torch.tensor(idxs, dtype=torch.long)"
   ]
  },
  {
   "cell_type": "code",
   "execution_count": 165,
   "metadata": {},
   "outputs": [],
   "source": [
    "def tensorize_entities(seq, dictionary):\n",
    "    idxs = [tag_to_ix[w] for w in seq]\n",
    "    return torch.tensor(idxs, dtype=torch.long)"
   ]
  },
  {
   "cell_type": "code",
   "execution_count": 116,
   "metadata": {},
   "outputs": [],
   "source": [
    "def make_seq_batch(batch_index, data: Iterable, identity: torch.Tensor = None):\n",
    "    data_dim = identity.shape[0]\n",
    "    batch_data = [data[i] for i in batch_index]\n",
    "\n",
    "    lengths = [d.shape[0] for d in batch_data]\n",
    "    max_length = max(lengths)\n",
    "    shape = [len(batch_index), max_length, data_dim]\n",
    "\n",
    "    template = torch.zeros(*shape, dtype=torch.long)\n",
    "    for k, tensor in enumerate(batch_data):\n",
    "        template[k, :lengths[k]] = identity[tensor]\n",
    "\n",
    "    return template"
   ]
  },
  {
   "cell_type": "code",
   "execution_count": 168,
   "metadata": {},
   "outputs": [],
   "source": [
    "def make_ent_batch(batch_index, data: Iterable):\n",
    "    batch_data = [data[i] for i in batch_index]\n",
    "    "
   ]
  },
  {
   "cell_type": "code",
   "execution_count": null,
   "metadata": {},
   "outputs": [],
   "source": []
  }
 ],
 "metadata": {
  "kernelspec": {
   "display_name": "Python 3",
   "language": "python",
   "name": "python3"
  },
  "language_info": {
   "codemirror_mode": {
    "name": "ipython",
    "version": 3
   },
   "file_extension": ".py",
   "mimetype": "text/x-python",
   "name": "python",
   "nbconvert_exporter": "python",
   "pygments_lexer": "ipython3",
   "version": "3.6.8"
  }
 },
 "nbformat": 4,
 "nbformat_minor": 2
}
