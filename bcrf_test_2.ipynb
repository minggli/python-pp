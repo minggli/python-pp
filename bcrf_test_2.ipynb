{
 "cells": [
  {
   "cell_type": "markdown",
   "metadata": {},
   "source": [
    "## Pyro, Bayesian analysis, and attempt on BCRF (Qi et al 2005)"
   ]
  },
  {
   "cell_type": "code",
   "execution_count": 1,
   "metadata": {},
   "outputs": [],
   "source": [
    "import pyro\n",
    "from pyro.distributions import Normal, Uniform\n",
    "import pyro.distributions as dist\n",
    "from pyro.infer import SVI, Trace_ELBO, EmpiricalMarginal, TraceEnum_ELBO, JitTraceEnum_ELBO\n",
    "from pyro.infer.mcmc import MCMC, NUTS\n",
    "from pyro.optim import Adam\n",
    "from pyro.util import ignore_jit_warnings\n",
    "from pyro.contrib.autoguide import AutoDelta\n",
    "\n",
    "import torch\n",
    "import torch.nn as nn\n",
    "\n",
    "import numpy as np\n",
    "import pandas as pd\n",
    "\n",
    "import matplotlib.pyplot as plt\n",
    "plt.style.use('ggplot')\n",
    "import seaborn as sns"
   ]
  },
  {
   "cell_type": "code",
   "execution_count": 2,
   "metadata": {},
   "outputs": [],
   "source": [
    "DATA_URL = \"https://d2fefpcigoriu7.cloudfront.net/datasets/rugged_data.csv\"\n",
    "data = pd.read_csv(DATA_URL, encoding=\"ISO-8859-1\")\n",
    "df = data[[\"cont_africa\", \"rugged\", \"rgdppc_2000\"]]\n",
    "df = df[np.isfinite(df.rgdppc_2000)]\n",
    "df[\"rgdppc_2000\"] = np.log(df[\"rgdppc_2000\"])"
   ]
  },
  {
   "cell_type": "code",
   "execution_count": 3,
   "metadata": {},
   "outputs": [],
   "source": [
    "data = torch.tensor(df.values, dtype=torch.float)\n",
    "x_data, y_data = data[:, :-1], data[:, -1]"
   ]
  },
  {
   "cell_type": "code",
   "execution_count": 4,
   "metadata": {},
   "outputs": [],
   "source": [
    "def model(x_data, y_data):\n",
    "    n = len(x_data)\n",
    "\n",
    "    # w, b, sigma parameter is outside of plate, independent of N\n",
    "    weight = pyro.sample(\"w\", dist.Normal(torch.zeros(1, 2), torch.ones(1, 2)))\n",
    "    bias = pyro.sample(\"b\", dist.Normal(torch.tensor([[0.]]), torch.tensor([[100.]])))\n",
    "    sigma = pyro.sample(\"epsilon\", Uniform(0., 10.))\n",
    "\n",
    "    with pyro.plate(\"map\", n):\n",
    "        mu = (x_data[:, 0] * weight[0][0] + x_data[:, 1] * weight[0][1] + bias).squeeze(1)\n",
    "        yhat = pyro.sample(\"yhat\", Normal(mu, sigma), obs=y_data)\n",
    "        return yhat"
   ]
  },
  {
   "cell_type": "markdown",
   "metadata": {},
   "source": [
    "## Stochastic Variational Inference with spherical gaussian on linear regression"
   ]
  },
  {
   "cell_type": "code",
   "execution_count": 5,
   "metadata": {},
   "outputs": [],
   "source": [
    "from pyro.contrib.autoguide import AutoDiagonalNormal\n",
    "mean_field_guide = AutoDiagonalNormal(model)\n",
    "\n",
    "# inject callables into SVI instantiation\n",
    "svi = SVI(model, mean_field_guide, Adam({\"lr\": 0.03}), loss=Trace_ELBO(), num_samples=1000)"
   ]
  },
  {
   "cell_type": "code",
   "execution_count": 6,
   "metadata": {},
   "outputs": [
    {
     "name": "stdout",
     "output_type": "stream",
     "text": [
      "[iteration 0001] loss: 3.8931\n",
      "[iteration 0501] loss: 3.3034\n",
      "[iteration 1001] loss: 1.5386\n",
      "[iteration 1501] loss: 1.4807\n"
     ]
    }
   ],
   "source": [
    "pyro.clear_param_store()\n",
    "for j in range(2000):\n",
    "    loss = svi.step(x_data, y_data)\n",
    "    if j % 500 == 0:\n",
    "        print(\"[iteration %04d] loss: %.4f\" % (j + 1, loss / len(data)))"
   ]
  },
  {
   "cell_type": "code",
   "execution_count": 7,
   "metadata": {},
   "outputs": [
    {
     "name": "stdout",
     "output_type": "stream",
     "text": [
      "auto_loc tensor([-1.3913, -0.0331,  9.0494, -2.2267], requires_grad=True)\n",
      "auto_scale tensor([0.1296, 0.0425, 0.0774, 0.0754], grad_fn=<AddBackward0>)\n"
     ]
    }
   ],
   "source": [
    "for name, value in pyro.get_param_store().items():\n",
    "    print(name, pyro.param(name))"
   ]
  },
  {
   "cell_type": "markdown",
   "metadata": {},
   "source": [
    "## No-U-turn Sampler"
   ]
  },
  {
   "cell_type": "code",
   "execution_count": 8,
   "metadata": {},
   "outputs": [
    {
     "name": "stderr",
     "output_type": "stream",
     "text": [
      "Sample: 100%|██████████| 700/700 [00:12<00:00, 56.57it/s, step size=2.64e-01, acc. prob=0.927]\n"
     ]
    }
   ],
   "source": [
    "pyro.clear_param_store()\n",
    "\n",
    "nuts = NUTS(model)\n",
    "sampler = MCMC(nuts,\n",
    "               num_samples=600,\n",
    "               num_chains=1,\n",
    "               # burn-in\n",
    "               warmup_steps=100)\n",
    "traces = sampler.run(x_data, y_data)"
   ]
  },
  {
   "cell_type": "code",
   "execution_count": 9,
   "metadata": {},
   "outputs": [],
   "source": [
    "posteriors = traces.marginal([\"w\", \"b\", \"epsilon\"])"
   ]
  },
  {
   "cell_type": "code",
   "execution_count": 10,
   "metadata": {},
   "outputs": [],
   "source": [
    "a = posteriors.empirical[\"epsilon\"]"
   ]
  },
  {
   "cell_type": "code",
   "execution_count": 11,
   "metadata": {},
   "outputs": [],
   "source": [
    "def get_marginal(traces, sites):\n",
    "    return EmpiricalMarginal(traces, sites)._get_samples_and_weights()[0].detach().cpu().numpy()"
   ]
  },
  {
   "cell_type": "code",
   "execution_count": 12,
   "metadata": {
    "scrolled": true
   },
   "outputs": [],
   "source": [
    "posterior_weight = posteriors.empirical[\"w\"]\n",
    "posterior_bias = posteriors.empirical[\"b\"]\n",
    "posterior_epsilon = posteriors.empirical[\"epsilon\"]"
   ]
  },
  {
   "cell_type": "code",
   "execution_count": 13,
   "metadata": {},
   "outputs": [
    {
     "data": {
      "text/plain": [
       "<matplotlib.axes._subplots.AxesSubplot at 0x7f6d76cd7eb8>"
      ]
     },
     "execution_count": 13,
     "metadata": {},
     "output_type": "execute_result"
    },
    {
     "data": {
      "image/png": "[encoded data removed]",
      "text/plain": [
       "<Figure size 432x288 with 1 Axes>"
      ]
     },
     "metadata": {
      "needs_background": "light"
     },
     "output_type": "display_data"
    }
   ],
   "source": [
    "sns.distplot(posterior_weight((10000, )).squeeze(1)[:, 0])"
   ]
  },
  {
   "cell_type": "code",
   "execution_count": 14,
   "metadata": {},
   "outputs": [
    {
     "data": {
      "text/plain": [
       "<matplotlib.axes._subplots.AxesSubplot at 0x7f6d74bb9588>"
      ]
     },
     "execution_count": 14,
     "metadata": {},
     "output_type": "execute_result"
    },
    {
     "data": {
      "image/png": "[encoded data removed]",
      "text/plain": [
       "<Figure size 432x288 with 1 Axes>"
      ]
     },
     "metadata": {
      "needs_background": "light"
     },
     "output_type": "display_data"
    }
   ],
   "source": [
    "sns.distplot(posterior_weight((10000, )).squeeze(1)[:, 1])"
   ]
  },
  {
   "cell_type": "code",
   "execution_count": 15,
   "metadata": {},
   "outputs": [
    {
     "data": {
      "text/plain": [
       "<matplotlib.axes._subplots.AxesSubplot at 0x7f6d746550f0>"
      ]
     },
     "execution_count": 15,
     "metadata": {},
     "output_type": "execute_result"
    },
    {
     "data": {
      "image/png": "[encoded data removed]",
      "text/plain": [
       "<Figure size 432x288 with 1 Axes>"
      ]
     },
     "metadata": {
      "needs_background": "light"
     },
     "output_type": "display_data"
    }
   ],
   "source": [
    "sns.distplot(posterior_bias((10000, )))"
   ]
  },
  {
   "cell_type": "code",
   "execution_count": 16,
   "metadata": {
    "scrolled": true
   },
   "outputs": [
    {
     "data": {
      "text/plain": [
       "<matplotlib.axes._subplots.AxesSubplot at 0x7f6d745567f0>"
      ]
     },
     "execution_count": 16,
     "metadata": {},
     "output_type": "execute_result"
    },
    {
     "data": {
      "image/png": "[encoded data removed]",
      "text/plain": [
       "<Figure size 432x288 with 1 Axes>"
      ]
     },
     "metadata": {
      "needs_background": "light"
     },
     "output_type": "display_data"
    }
   ],
   "source": [
    "sns.distplot(posterior_epsilon((10000, )))"
   ]
  },
  {
   "cell_type": "markdown",
   "metadata": {},
   "source": [
    "## vanila HMM before going BCRF (Qi et al. 2005)"
   ]
  },
  {
   "cell_type": "code",
   "execution_count": 34,
   "metadata": {},
   "outputs": [],
   "source": [
    "# adopted from HMM tutorials at: https://pyro.ai/examples/hmm.html"
   ]
  },
  {
   "cell_type": "code",
   "execution_count": 45,
   "metadata": {},
   "outputs": [],
   "source": [
    "# Pyro's poutine handles effects \n",
    "from pyro import poutine\n",
    "import dmm.polyphonic_data_loader as poly"
   ]
  },
  {
   "cell_type": "code",
   "execution_count": 135,
   "metadata": {},
   "outputs": [],
   "source": [
    "class MockArgs():\n",
    "    num_steps=50\n",
    "    hidden_dim=16\n",
    "    nn_dim=48\n",
    "    batch_size=8\n",
    "    nn_channels=2\n",
    "    learning_rate=0.05\n",
    "    truncate=None\n",
    "    print_shapes=False\n",
    "    jit=True\n",
    "    cuda=True\n",
    "    raftery_parameterization=True"
   ]
  },
  {
   "cell_type": "code",
   "execution_count": 136,
   "metadata": {},
   "outputs": [],
   "source": [
    "args = MockArgs()"
   ]
  },
  {
   "cell_type": "code",
   "execution_count": 137,
   "metadata": {},
   "outputs": [],
   "source": [
    "if args.cuda:\n",
    "    torch.set_default_tensor_type('torch.cuda.FloatTensor')"
   ]
  },
  {
   "cell_type": "code",
   "execution_count": 138,
   "metadata": {},
   "outputs": [],
   "source": [
    "# JSB Chorales dataset, pianos keys pressed out of 88 keys.\n",
    "# Modeling Temporal Dependencies in High-Dimensional Sequences: Application to Polyphonic Music Generation and Transcription\n",
    "# http://www-etud.iro.umontreal.ca/~boulanni/icml2012\n",
    "data = poly.load_data(poly.JSB_CHORALES)"
   ]
  },
  {
   "cell_type": "code",
   "execution_count": 139,
   "metadata": {},
   "outputs": [],
   "source": [
    "sequences = data['train']['sequences']\n",
    "lengths = data['train']['sequence_lengths']"
   ]
  },
  {
   "cell_type": "code",
   "execution_count": 140,
   "metadata": {},
   "outputs": [],
   "source": [
    "# only some keys of this piano were pressed, some not, so reduce dimension of the sequence\n",
    "notes_pressed = ((sequences == 1).sum(0).sum(0) > 0)"
   ]
  },
  {
   "cell_type": "code",
   "execution_count": 141,
   "metadata": {},
   "outputs": [],
   "source": [
    "sequences = sequences[:, :, notes_pressed]"
   ]
  },
  {
   "cell_type": "code",
   "execution_count": 142,
   "metadata": {},
   "outputs": [],
   "source": [
    "if args.truncate:\n",
    "    lengths.clamp_(max=args.truncate)\n",
    "    sequences = sequences[:, :args.truncate]\n",
    "num_observations = float(lengths.sum())"
   ]
  },
  {
   "cell_type": "code",
   "execution_count": 211,
   "metadata": {},
   "outputs": [],
   "source": [
    "def model_1(sequences, lengths, args, batch_size=None, include_prior=True):\n",
    "    # Sometimes it is safe to ignore jit warnings. Here we use the\n",
    "    # pyro.util.ignore_jit_warnings context manager to silence warnings about\n",
    "    # conversion to integer, since we know all three numbers will be the same\n",
    "    # across all invocations to the model.\n",
    "    with ignore_jit_warnings():\n",
    "        num_sequences, max_length, data_dim = map(int, sequences.shape)\n",
    "        assert lengths.shape == (num_sequences, )\n",
    "        assert lengths.max() <= max_length\n",
    "\n",
    "    with poutine.mask(mask=include_prior):\n",
    "        # to_event seperates n right-most dimension as event dimension from batch dimension.\n",
    "        # transition probability p(y_t | y_t-1)\n",
    "        probs_x = pyro.sample(\"probs_x\", dist.Dirichlet(0.9 * torch.eye(args.hidden_dim) + 0.1).to_event(1))\n",
    "        # emission probability p(x_t | y_t)\n",
    "        probs_y = pyro.sample(\"probs_y\", dist.Beta(0.1, 0.9).expand([args.hidden_dim, data_dim]).to_event(2))\n",
    "\n",
    "    # nodes_plate in shape [DATA_DIM], in this case 51 dimension of each observation\n",
    "    nodes_plate = pyro.plate(\"nodes\", data_dim, dim=-1)\n",
    "    # We subsample batch_size items out of num_sequences items. Note that since\n",
    "    # we're using dim=-1 for the notes plate, we need to batch over a different\n",
    "    # dimension, here dim=-2.\n",
    "    with pyro.plate(\"sequences\", size=num_sequences, subsample_size=batch_size, dim=-2) as batch:\n",
    "        # here batch is indice of subsampled, in shape [BATCH_SIZE, 1].\n",
    "        lengths = lengths[batch]\n",
    "        x = 0\n",
    "\n",
    "        # If we are not using the jit, then we can vary the program structure\n",
    "        # each call by running for a dynamically determined number of time\n",
    "        # steps, lengths.max(). However if we are using the jit, then we try to\n",
    "        # keep a single program structure for all minibatches; the fixed\n",
    "        # structure ends up being faster since each program structure would\n",
    "        # need to trigger a new jit compile stage.\n",
    "        for t in pyro.markov(range(max_length if args.jit else lengths.max())):\n",
    "            with poutine.mask(mask=(t < lengths).unsqueeze(-1)):\n",
    "                x = pyro.sample(\"x_{}\".format(t), dist.Categorical(probs_x[x]), infer={\"enumerate\": \"parallel\"})\n",
    "                # x sampled in batch from categorical distribution of [0, 1, 2, ..., hidden_dim]\n",
    "                # x is the state of the latent variable x at discrete time step t\n",
    "                with nodes_plate:\n",
    "                    # y in size [BATCH_SIZE, DATA_DIM]\n",
    "                    y = pyro.sample(\"y_{}\".format(t), dist.Bernoulli(probs_y[x.squeeze(-1)]),\n",
    "                                    # observed these y at t\n",
    "                                    obs=sequences[batch, t])"
   ]
  },
  {
   "cell_type": "code",
   "execution_count": 144,
   "metadata": {},
   "outputs": [],
   "source": [
    "pyro.clear_param_store()\n",
    "model = model_1"
   ]
  },
  {
   "cell_type": "code",
   "execution_count": 145,
   "metadata": {},
   "outputs": [],
   "source": [
    "from pyro.contrib.autoguide import AutoDelta, AutoDiagonalNormal\n",
    "# Delta distribution for constrained MAP inference\n",
    "guide = AutoDelta(poutine.block(model, expose_fn=lambda msg: msg[\"name\"].startswith(\"probs_\")))"
   ]
  },
  {
   "cell_type": "code",
   "execution_count": 146,
   "metadata": {},
   "outputs": [],
   "source": [
    "elbo = JitTraceEnum_ELBO(max_plate_nesting=2, strict_enumeration_warning=True)\n",
    "optim = Adam({'lr': 1e-2})\n",
    "svi = SVI(model, guide, optim, elbo)"
   ]
  },
  {
   "cell_type": "code",
   "execution_count": 147,
   "metadata": {
    "scrolled": true
   },
   "outputs": [
    {
     "name": "stdout",
     "output_type": "stream",
     "text": [
      "    0\t19.18508048453683\n",
      "  100\t20.880658361700586\n",
      "  200\t14.033231558267545\n",
      "  300\t12.38031206996451\n",
      "  400\t10.788302582023611\n"
     ]
    }
   ],
   "source": [
    "for step in range(args.num_steps * 10):\n",
    "    loss = svi.step(sequences, lengths, args=args, batch_size=args.batch_size)\n",
    "    if not step % 100:\n",
    "        print('{: >5d}\\t{}'.format(step, loss / num_observations))"
   ]
  },
  {
   "cell_type": "code",
   "execution_count": 148,
   "metadata": {},
   "outputs": [],
   "source": [
    "num_sequences, max_length, data_dim = map(int, sequences.shape)"
   ]
  },
  {
   "cell_type": "code",
   "execution_count": 217,
   "metadata": {},
   "outputs": [],
   "source": [
    "p = pyro.sample(\"probs_y\", dist.Beta(0.1, 0.9).expand([args.hidden_dim, 51]).to_event(2))"
   ]
  },
  {
   "cell_type": "code",
   "execution_count": 219,
   "metadata": {},
   "outputs": [
    {
     "data": {
      "text/plain": [
       "tensor([[2.8638e-01, 5.9461e-03, 4.2826e-12, 2.3140e-02, 8.6210e-04, 5.9648e-02,\n",
       "         2.7255e-04, 3.7092e-05, 2.4067e-01, 1.7834e-02, 5.8628e-04, 1.2980e-01,\n",
       "         1.2667e-04, 2.8480e-12, 9.2430e-01, 1.0605e-06, 2.0156e-03, 2.2000e-03,\n",
       "         1.5242e-05, 4.5344e-01, 3.1015e-01, 8.5108e-03, 1.0955e-05, 3.8672e-09,\n",
       "         7.2950e-08, 1.1550e-02, 1.7969e-03, 6.0300e-11, 4.6658e-05, 1.2123e-06,\n",
       "         9.3258e-04, 4.7549e-13, 1.2852e-04, 3.2006e-03, 6.1718e-14, 6.1069e-01,\n",
       "         7.1953e-02, 9.6520e-01, 1.6206e-08, 1.4169e-09, 3.1905e-03, 1.9160e-03,\n",
       "         8.6589e-04, 5.8077e-08, 6.1447e-01, 1.1874e-02, 3.6840e-08, 4.5848e-04,\n",
       "         1.7224e-09, 1.0148e-06, 9.9868e-01],\n",
       "        [7.9323e-01, 2.2905e-05, 3.5577e-01, 1.1069e-01, 3.0502e-01, 5.3663e-04,\n",
       "         2.1107e-01, 7.2171e-03, 2.0026e-03, 9.1042e-08, 1.0407e-02, 3.2064e-05,\n",
       "         3.4369e-05, 3.3400e-03, 3.1064e-02, 2.0864e-02, 5.2313e-01, 3.0999e-01,\n",
       "         1.7683e-11, 7.5345e-02, 1.3495e-07, 2.8434e-08, 3.1471e-02, 2.1190e-01,\n",
       "         7.6105e-05, 1.6016e-05, 1.8138e-04, 1.2642e-02, 5.0155e-01, 1.7918e-01,\n",
       "         2.2681e-05, 4.6532e-10, 4.0241e-03, 5.5164e-06, 4.1521e-13, 4.4888e-04,\n",
       "         3.6907e-06, 3.5187e-03, 7.7350e-01, 1.0104e-05, 4.9029e-03, 2.9087e-13,\n",
       "         1.0962e-15, 2.8840e-02, 1.7896e-06, 4.5841e-03, 1.5895e-01, 4.8353e-02,\n",
       "         6.6503e-03, 7.2508e-01, 9.7902e-02],\n",
       "        [3.5960e-03, 8.8956e-03, 3.6089e-01, 4.0606e-03, 7.2044e-05, 6.2805e-11,\n",
       "         1.3017e-01, 1.2000e-03, 6.9439e-01, 2.8631e-14, 4.4956e-06, 6.8185e-03,\n",
       "         2.8323e-02, 7.4264e-02, 2.8880e-03, 2.5522e-08, 7.3500e-04, 1.9962e-01,\n",
       "         2.1922e-09, 4.5727e-04, 5.2336e-03, 1.1966e-01, 2.6379e-08, 4.3704e-03,\n",
       "         2.5946e-05, 5.2676e-09, 1.9824e-03, 1.3596e-04, 3.9352e-04, 3.0409e-08,\n",
       "         1.7175e-02, 5.1304e-01, 1.5327e-03, 2.1910e-18, 1.5045e-02, 1.6373e-03,\n",
       "         1.0652e-01, 9.0052e-01, 1.6447e-02, 4.6477e-13, 6.6256e-03, 3.4550e-01,\n",
       "         9.2936e-01, 5.0242e-05, 6.7966e-14, 4.2563e-08, 5.6885e-03, 1.2714e-05,\n",
       "         3.0252e-02, 1.3601e-09, 1.8234e-01],\n",
       "        [7.5495e-02, 7.1501e-06, 8.0353e-01, 3.8944e-01, 1.3972e-04, 2.0979e-11,\n",
       "         1.9737e-02, 1.5360e-06, 8.3120e-07, 2.9573e-01, 1.1814e-04, 1.7155e-03,\n",
       "         7.7881e-06, 1.0054e-05, 1.3750e-04, 2.5149e-22, 4.2119e-01, 1.6652e-06,\n",
       "         1.9873e-06, 4.6748e-09, 1.1601e-08, 2.1531e-01, 3.3098e-01, 5.6736e-02,\n",
       "         1.8767e-02, 1.7000e-01, 6.7751e-06, 2.6323e-07, 2.0877e-02, 5.8171e-01,\n",
       "         1.2164e-19, 1.7369e-03, 3.0761e-08, 3.6346e-04, 8.5728e-07, 3.4601e-05,\n",
       "         4.3747e-04, 4.3756e-01, 4.3432e-07, 8.3295e-03, 4.3917e-06, 4.1464e-02,\n",
       "         6.4224e-05, 3.7857e-07, 4.9782e-03, 1.2765e-16, 1.9281e-06, 1.1356e-01,\n",
       "         2.8145e-05, 3.8888e-03, 9.7839e-01],\n",
       "        [6.7413e-02, 1.0091e-01, 1.4512e-10, 5.0854e-05, 1.1075e-04, 5.0272e-01,\n",
       "         4.0080e-01, 3.1976e-02, 5.2842e-01, 1.7896e-09, 1.6280e-01, 2.6774e-01,\n",
       "         4.0324e-01, 7.3316e-02, 4.1235e-06, 4.4311e-07, 1.6393e-13, 1.0454e-08,\n",
       "         8.5489e-09, 1.8858e-03, 5.9119e-01, 7.1116e-05, 4.2275e-01, 1.0163e-01,\n",
       "         4.8797e-03, 1.2346e-12, 3.8467e-07, 3.1680e-02, 7.5848e-01, 2.4473e-09,\n",
       "         1.5790e-12, 3.8914e-03, 8.6859e-08, 3.2903e-01, 1.0552e-06, 4.8759e-01,\n",
       "         1.9663e-01, 4.6718e-06, 4.0517e-02, 7.1718e-07, 2.2440e-04, 1.0636e-04,\n",
       "         2.3209e-05, 3.5970e-12, 4.9820e-06, 1.9700e-14, 3.1272e-15, 1.2034e-07,\n",
       "         2.1796e-04, 9.3050e-01, 6.1913e-04],\n",
       "        [8.5209e-03, 2.7927e-03, 4.5628e-07, 7.4263e-14, 2.3927e-08, 1.4675e-14,\n",
       "         5.5481e-01, 7.6083e-05, 3.7555e-01, 2.3008e-08, 7.4408e-04, 7.5582e-01,\n",
       "         8.1735e-01, 3.2899e-02, 1.0929e-11, 2.4779e-03, 4.8565e-01, 1.6385e-10,\n",
       "         9.1126e-06, 9.5228e-03, 6.2393e-06, 1.0436e-06, 1.1251e-09, 4.9503e-07,\n",
       "         1.3410e-03, 1.7196e-01, 3.4204e-02, 1.1663e-08, 1.4659e-01, 2.3814e-12,\n",
       "         5.5095e-03, 2.6495e-03, 3.4561e-03, 2.6914e-02, 4.5132e-17, 1.3683e-03,\n",
       "         6.8723e-02, 5.8985e-06, 3.5097e-06, 1.1376e-01, 3.8102e-06, 5.2463e-06,\n",
       "         5.4893e-02, 2.8558e-13, 3.6286e-03, 5.3393e-02, 4.0715e-04, 5.2865e-07,\n",
       "         3.8000e-03, 1.1238e-01, 1.6491e-03],\n",
       "        [4.0346e-15, 5.8023e-15, 1.1888e-01, 1.1886e-02, 9.5170e-06, 5.3610e-03,\n",
       "         8.0117e-03, 2.2239e-06, 6.8452e-03, 9.8423e-08, 1.3407e-05, 3.9748e-01,\n",
       "         2.3297e-01, 4.9515e-01, 3.2733e-03, 4.5196e-01, 9.7208e-02, 3.0271e-01,\n",
       "         5.2666e-26, 7.3539e-01, 6.0246e-02, 1.0427e-04, 8.1765e-01, 9.2897e-26,\n",
       "         1.0615e-18, 2.0025e-06, 2.3652e-02, 1.3251e-01, 1.4518e-06, 2.7679e-01,\n",
       "         6.8224e-04, 3.3771e-04, 1.2623e-07, 5.9275e-02, 9.2505e-01, 3.1986e-04,\n",
       "         8.8281e-05, 3.6750e-01, 1.5881e-02, 1.5075e-03, 7.9522e-07, 4.5001e-02,\n",
       "         4.8193e-07, 9.9343e-02, 8.3710e-04, 1.5393e-04, 1.2118e-03, 1.2336e-01,\n",
       "         3.4619e-01, 1.9074e-03, 6.4261e-02],\n",
       "        [4.8843e-15, 2.9444e-04, 4.6528e-05, 1.1280e-03, 6.5932e-02, 8.9398e-04,\n",
       "         4.6508e-05, 2.0710e-03, 1.0906e-06, 9.5310e-01, 2.5820e-01, 1.3186e-10,\n",
       "         4.9393e-18, 4.1517e-02, 1.9831e-02, 4.4391e-02, 1.4290e-03, 4.0668e-05,\n",
       "         6.9249e-03, 6.5947e-03, 1.4255e-03, 5.5546e-10, 2.9372e-25, 5.2755e-09,\n",
       "         1.3176e-03, 4.9154e-02, 5.9893e-02, 6.5832e-09, 1.8813e-03, 2.2032e-01,\n",
       "         8.9724e-07, 2.4944e-14, 4.6627e-04, 3.2837e-01, 8.5100e-06, 2.8763e-16,\n",
       "         1.8883e-01, 4.5248e-12, 8.1103e-06, 4.3717e-04, 2.2183e-07, 4.8355e-06,\n",
       "         1.4450e-01, 1.8446e-01, 6.1238e-05, 4.1418e-04, 4.0023e-02, 6.3329e-02,\n",
       "         4.9112e-09, 1.4773e-06, 2.3359e-01],\n",
       "        [7.6127e-02, 1.6952e-01, 3.8788e-03, 1.4863e-08, 1.7227e-15, 7.8656e-03,\n",
       "         8.2088e-08, 2.9042e-02, 5.6232e-04, 7.4764e-11, 4.1949e-08, 1.2469e-05,\n",
       "         1.3344e-03, 3.6783e-11, 4.2827e-05, 2.0463e-06, 2.6123e-01, 2.6336e-01,\n",
       "         3.0872e-06, 6.1977e-02, 2.6456e-04, 4.2902e-06, 2.6894e-16, 9.6060e-12,\n",
       "         1.0449e-01, 4.4326e-05, 2.2699e-08, 7.4009e-10, 4.6542e-09, 5.6568e-05,\n",
       "         5.5787e-01, 4.0946e-01, 2.6591e-06, 1.5406e-12, 2.1601e-08, 5.2132e-04,\n",
       "         4.7067e-01, 5.7436e-07, 2.3698e-08, 1.5495e-03, 2.4924e-06, 2.3957e-07,\n",
       "         2.0663e-03, 2.7687e-01, 3.0388e-14, 6.2828e-15, 1.8813e-05, 1.2067e-01,\n",
       "         3.8330e-01, 8.8635e-03, 5.3029e-04],\n",
       "        [2.7999e-14, 8.7290e-11, 2.3559e-11, 2.4075e-02, 5.2072e-03, 6.5388e-02,\n",
       "         8.0029e-02, 1.0395e-04, 2.3783e-01, 1.3818e-04, 2.0792e-03, 4.3988e-04,\n",
       "         3.2634e-04, 1.6545e-05, 1.8034e-05, 1.1202e-01, 2.0493e-08, 1.1422e-06,\n",
       "         4.9907e-08, 4.4438e-04, 2.2493e-12, 9.5578e-01, 1.4464e-06, 5.6281e-03,\n",
       "         3.1807e-04, 5.8948e-04, 4.8657e-03, 3.4472e-02, 3.3734e-03, 2.6949e-09,\n",
       "         1.7526e-01, 5.2973e-03, 5.3108e-01, 9.8403e-01, 4.8271e-01, 1.1959e-06,\n",
       "         3.6733e-02, 1.2766e-02, 5.8807e-02, 4.7719e-03, 6.2249e-04, 2.6694e-02,\n",
       "         1.3193e-02, 2.3593e-01, 1.0787e-01, 5.3953e-05, 5.5097e-07, 2.1732e-04,\n",
       "         9.4853e-03, 2.2183e-02, 2.7974e-01],\n",
       "        [9.5016e-02, 3.2666e-02, 4.3605e-05, 2.4331e-06, 7.6520e-02, 6.5245e-09,\n",
       "         2.8235e-04, 8.2247e-10, 1.2931e-11, 3.8648e-06, 2.3462e-02, 2.0013e-06,\n",
       "         5.3094e-01, 4.4673e-15, 5.8269e-13, 1.7675e-12, 7.0124e-06, 2.1002e-03,\n",
       "         2.6931e-03, 2.2262e-01, 7.7642e-04, 1.1371e-04, 6.0782e-17, 7.0214e-01,\n",
       "         6.7390e-09, 6.4747e-09, 1.9120e-01, 5.6668e-01, 2.6404e-06, 3.6655e-03,\n",
       "         7.5245e-02, 6.0722e-03, 1.6412e-03, 6.2169e-03, 4.2831e-03, 9.3655e-01,\n",
       "         3.4403e-05, 1.6602e-04, 1.0689e-03, 2.7472e-04, 1.1718e-06, 1.8126e-02,\n",
       "         8.1098e-03, 4.8932e-02, 9.1451e-01, 6.6103e-01, 1.8568e-17, 2.6947e-01,\n",
       "         3.1634e-01, 4.2276e-02, 6.5577e-01],\n",
       "        [5.4747e-06, 2.7004e-04, 6.1507e-05, 2.7490e-01, 7.8359e-17, 5.1217e-09,\n",
       "         7.2802e-05, 1.7268e-02, 2.2796e-01, 8.1813e-04, 5.4924e-05, 1.1590e-06,\n",
       "         1.6736e-01, 1.7565e-08, 6.4413e-26, 3.1258e-03, 4.0935e-01, 7.6672e-04,\n",
       "         2.6357e-06, 3.9800e-06, 6.8437e-01, 3.5750e-01, 2.6882e-01, 9.9560e-01,\n",
       "         1.6328e-02, 5.2269e-03, 2.6061e-01, 8.4780e-01, 1.2335e-05, 1.3986e-07,\n",
       "         3.2436e-01, 6.0481e-07, 1.5785e-02, 3.2357e-10, 1.8917e-03, 3.0279e-02,\n",
       "         8.5931e-03, 9.2591e-03, 3.6592e-07, 6.9979e-05, 1.5344e-01, 1.4239e-05,\n",
       "         1.3705e-04, 2.9124e-12, 4.6019e-01, 3.8864e-05, 3.6672e-05, 2.7702e-04,\n",
       "         2.0769e-02, 7.2083e-04, 3.7852e-02],\n",
       "        [2.0528e-02, 8.6369e-03, 1.1926e-07, 1.0890e-03, 5.2524e-14, 3.1830e-03,\n",
       "         1.8506e-03, 2.5805e-16, 9.1201e-08, 3.4356e-02, 2.1456e-09, 6.3594e-05,\n",
       "         1.6923e-04, 5.2575e-02, 4.9546e-03, 1.8894e-07, 7.5459e-01, 6.7729e-07,\n",
       "         1.5854e-09, 3.0402e-09, 7.8878e-02, 1.5437e-03, 6.8039e-09, 9.2718e-12,\n",
       "         5.5766e-07, 4.9902e-09, 4.5484e-01, 2.9771e-01, 3.3262e-04, 8.0134e-06,\n",
       "         1.5435e-02, 7.2840e-01, 2.2225e-04, 9.1176e-07, 2.3252e-10, 9.4216e-07,\n",
       "         2.0900e-01, 9.4290e-01, 9.9589e-11, 1.2883e-08, 4.5241e-07, 4.6521e-03,\n",
       "         1.7796e-01, 1.0313e-07, 1.9462e-06, 1.9978e-05, 3.4922e-03, 1.2373e-18,\n",
       "         4.2792e-04, 3.0240e-05, 7.4922e-07],\n",
       "        [3.1089e-12, 1.0065e-05, 9.0397e-06, 8.4006e-01, 1.2707e-01, 5.9532e-06,\n",
       "         2.3899e-03, 1.5770e-01, 3.7805e-09, 4.0824e-04, 5.0139e-03, 2.2279e-01,\n",
       "         2.9394e-01, 6.3454e-04, 7.6426e-10, 5.2427e-07, 8.4082e-07, 4.8418e-02,\n",
       "         1.0660e-02, 9.4158e-12, 1.6111e-03, 1.0918e-01, 5.5936e-03, 6.1578e-08,\n",
       "         1.6700e-09, 3.5876e-10, 1.3209e-07, 2.6865e-05, 6.8858e-14, 9.6622e-01,\n",
       "         2.7267e-01, 1.2792e-11, 3.5432e-03, 2.8617e-08, 3.8452e-09, 1.2529e-01,\n",
       "         9.7113e-05, 4.7497e-08, 1.0678e-02, 4.9534e-05, 4.1974e-08, 1.9963e-03,\n",
       "         1.5258e-05, 8.6010e-02, 2.7021e-10, 6.5206e-03, 3.7822e-11, 7.1945e-01,\n",
       "         1.3100e-01, 4.9531e-05, 8.2654e-06],\n",
       "        [1.1380e-03, 2.0044e-14, 2.2474e-05, 6.3384e-01, 2.1813e-02, 3.2974e-03,\n",
       "         5.2063e-01, 8.9817e-09, 2.3878e-09, 7.3267e-01, 2.5916e-09, 2.2753e-02,\n",
       "         1.6154e-04, 4.1974e-04, 9.2201e-07, 5.4813e-02, 1.2943e-02, 8.2720e-01,\n",
       "         7.1287e-11, 8.3372e-06, 6.1372e-02, 4.6774e-04, 9.4898e-21, 1.4273e-04,\n",
       "         9.2575e-04, 1.1306e-03, 1.0036e-06, 4.0694e-03, 1.6434e-08, 1.1853e-05,\n",
       "         2.3784e-02, 1.1050e-01, 5.8578e-02, 2.5782e-04, 4.5639e-05, 5.0858e-04,\n",
       "         6.8894e-05, 5.1820e-12, 2.0549e-02, 1.0410e-01, 2.7500e-05, 1.6119e-01,\n",
       "         4.0120e-04, 4.7167e-02, 3.0296e-06, 2.5398e-08, 2.6269e-01, 2.8528e-04,\n",
       "         2.6428e-07, 1.7227e-02, 1.1152e-06],\n",
       "        [2.0613e-17, 3.2937e-02, 1.1398e-09, 6.2913e-03, 8.2579e-07, 4.8322e-02,\n",
       "         4.1422e-01, 1.0302e-18, 1.6520e-05, 2.7000e-09, 7.7713e-07, 7.8265e-05,\n",
       "         4.3372e-04, 1.1637e-12, 2.7009e-02, 2.1026e-04, 2.2500e-05, 3.2527e-03,\n",
       "         4.2378e-03, 1.6834e-02, 2.6124e-02, 1.6521e-04, 1.4867e-01, 4.1161e-09,\n",
       "         5.9492e-08, 4.3713e-01, 3.6965e-03, 5.1728e-03, 7.4531e-04, 2.3905e-12,\n",
       "         1.6670e-01, 1.4002e-02, 8.7155e-10, 5.3459e-04, 1.8597e-12, 7.2586e-16,\n",
       "         6.9834e-18, 2.1074e-02, 4.6721e-01, 2.7850e-01, 3.3222e-03, 1.6108e-07,\n",
       "         6.0279e-02, 7.6756e-02, 5.3838e-05, 6.2621e-01, 1.1078e-03, 2.5800e-18,\n",
       "         4.4900e-01, 7.8688e-14, 5.8816e-04]])"
      ]
     },
     "execution_count": 219,
     "metadata": {},
     "output_type": "execute_result"
    }
   ],
   "source": [
    "p"
   ]
  },
  {
   "cell_type": "code",
   "execution_count": null,
   "metadata": {},
   "outputs": [],
   "source": []
  }
 ],
 "metadata": {
  "kernelspec": {
   "display_name": "Python 3",
   "language": "python",
   "name": "python3"
  },
  "language_info": {
   "codemirror_mode": {
    "name": "ipython",
    "version": 3
   },
   "file_extension": ".py",
   "mimetype": "text/x-python",
   "name": "python",
   "nbconvert_exporter": "python",
   "pygments_lexer": "ipython3",
   "version": "3.6.8"
  }
 },
 "nbformat": 4,
 "nbformat_minor": 2
}
